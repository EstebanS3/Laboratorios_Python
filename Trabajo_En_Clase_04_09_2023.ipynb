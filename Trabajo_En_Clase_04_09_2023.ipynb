{
  "nbformat": 4,
  "nbformat_minor": 0,
  "metadata": {
    "colab": {
      "provenance": [],
      "authorship_tag": "ABX9TyNP49ekuKlCeXncSH74Hc67",
      "include_colab_link": true
    },
    "kernelspec": {
      "name": "python3",
      "display_name": "Python 3"
    },
    "language_info": {
      "name": "python"
    }
  },
  "cells": [
    {
      "cell_type": "markdown",
      "metadata": {
        "id": "view-in-github",
        "colab_type": "text"
      },
      "source": [
        "<a href=\"https://colab.research.google.com/github/EstebanS3/Laboratorios_Python/blob/Laboratorios/Trabajo_En_Clase_04_09_2023.ipynb\" target=\"_parent\"><img src=\"https://colab.research.google.com/assets/colab-badge.svg\" alt=\"Open In Colab\"/></a>"
      ]
    },
    {
      "cell_type": "code",
      "execution_count": null,
      "metadata": {
        "colab": {
          "base_uri": "https://localhost:8080/"
        },
        "id": "TaE8yokQ-K1q",
        "outputId": "27de5032-5b93-4649-a680-2b16ecfeb05a"
      },
      "outputs": [
        {
          "output_type": "stream",
          "name": "stdout",
          "text": [
            "Ingrese el valor del radio: 5.0\n",
            "El area es: 78.53981633974483\n",
            "El perimtro es: 31.41592653589793\n"
          ]
        }
      ],
      "source": [
        "import math\n",
        "\n",
        "def calcular_area_circulo(radio):\n",
        "  return math.pi * radio**2\n",
        "\n",
        "def calcular_perimetro_circulo(radio):\n",
        "  return 2*math.pi * radio\n",
        "\n",
        "radio=float(input(\"Ingrese el valor del radio: \"))\n",
        "\n",
        "area=calcular_area_circulo(radio)\n",
        "perimetro=calcular_perimetro_circulo(radio)\n",
        "\n",
        "print(\"El area es:\",area)\n",
        "print(\"El perimtro es:\",perimetro)"
      ]
    }
  ]
}