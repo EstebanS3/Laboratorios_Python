{
  "nbformat": 4,
  "nbformat_minor": 0,
  "metadata": {
    "colab": {
      "provenance": [],
      "authorship_tag": "ABX9TyPyg6TqZrcTQwKesDBWuQlv",
      "include_colab_link": true
    },
    "kernelspec": {
      "name": "python3",
      "display_name": "Python 3"
    },
    "language_info": {
      "name": "python"
    }
  },
  "cells": [
    {
      "cell_type": "markdown",
      "metadata": {
        "id": "view-in-github",
        "colab_type": "text"
      },
      "source": [
        "<a href=\"https://colab.research.google.com/github/EstebanS3/Laboratorios_Python/blob/Laboratorios/Tarea_1.ipynb\" target=\"_parent\"><img src=\"https://colab.research.google.com/assets/colab-badge.svg\" alt=\"Open In Colab\"/></a>"
      ]
    },
    {
      "cell_type": "markdown",
      "source": [
        "Año bisiesto"
      ],
      "metadata": {
        "id": "ABdj5yBA79M4"
      }
    },
    {
      "cell_type": "code",
      "execution_count": null,
      "metadata": {
        "colab": {
          "base_uri": "https://localhost:8080/"
        },
        "id": "gZgtBFCE76Z-",
        "outputId": "c89ccebb-3037-4b2a-d559-a3d36d560eac"
      },
      "outputs": [
        {
          "output_type": "stream",
          "name": "stdout",
          "text": [
            "Ejercicio Bisiesto\n",
            "Ingrese el año: 2021\n",
            "El año no es Bisiesto\n"
          ]
        }
      ],
      "source": [
        "print(\"Ejercicio Bisiesto\")\n",
        "anio=int(input(\"Ingrese el año: \"))\n",
        "if(anio % 400 == 0) or (anio % 4 == 0) and(anio % 100 !=0):\n",
        "  print(\"El año es Bisiesto\")\n",
        "else:\n",
        "  print(\"El año no es Bisiesto\")"
      ]
    },
    {
      "cell_type": "markdown",
      "source": [
        "¿Switch?"
      ],
      "metadata": {
        "id": "v7Cg7mEN9PCu"
      }
    },
    {
      "cell_type": "code",
      "source": [
        "switcher={1:\"Enero\",2:\"Febrero\",3:\"Marzo\",4:\"Abril\",5:\"Mayo\",6:\"Junio\",7:\"Julio\",8:\"Agosto\",9:\"Setiembre\",10:\"Octubre\",11:\"Noviembre\",12:\"Diciembre\"}\n",
        "argument=int(input(\"Ingrese un número: \"))\n",
        "nombreDeMes=switcher.get(argument,\"Mes invalido\")\n",
        "print(nombreDeMes)"
      ],
      "metadata": {
        "colab": {
          "base_uri": "https://localhost:8080/"
        },
        "id": "hGE3Tr8a9Rfy",
        "outputId": "d35a6ae2-2986-4959-d2df-d7fdd371ef38"
      },
      "execution_count": null,
      "outputs": [
        {
          "output_type": "stream",
          "name": "stdout",
          "text": [
            "Ingrese un número: 13\n",
            "Mes invalido\n"
          ]
        }
      ]
    },
    {
      "cell_type": "markdown",
      "source": [
        "Ciclos"
      ],
      "metadata": {
        "id": "jKHBZSAD-wk7"
      }
    },
    {
      "cell_type": "markdown",
      "source": [
        "Problema#1"
      ],
      "metadata": {
        "id": "QbzdymWQ_KAo"
      }
    },
    {
      "cell_type": "code",
      "source": [
        "#Creacion de variables\n",
        "C=-1\n",
        "I=0\n",
        "M=0\n",
        "while(C<0) or (I<=0) or (I>=100) or (M<=0):\n",
        "  print(\"Introduce el capital, el interes, y el tiempo apropiados\")\n",
        "  C=int(input(\"Capital: \"))\n",
        "  I=int(input(\"Interes: \"))\n",
        "  M=int(input(\"Tiempo en años: \"))\n",
        "\n",
        "for i in range(M):\n",
        "  C=C*(1+I/100)\n",
        "  print(\"Monto \",C,\" Colones\")"
      ],
      "metadata": {
        "colab": {
          "base_uri": "https://localhost:8080/"
        },
        "id": "3hCncsgi-x-D",
        "outputId": "602882f4-b341-4e9c-eb9b-de23e0c0615e"
      },
      "execution_count": null,
      "outputs": [
        {
          "output_type": "stream",
          "name": "stdout",
          "text": [
            "Introduce el capital, el interes, y el tiempo apropiados\n",
            "Capital: 1000\n",
            "Interes: 10\n",
            "Tiempo en años: 20\n",
            "Monto  1100.0  Colones\n",
            "Monto  1210.0  Colones\n",
            "Monto  1331.0  Colones\n",
            "Monto  1464.1000000000001  Colones\n",
            "Monto  1610.5100000000002  Colones\n",
            "Monto  1771.5610000000004  Colones\n",
            "Monto  1948.7171000000005  Colones\n",
            "Monto  2143.5888100000006  Colones\n",
            "Monto  2357.9476910000008  Colones\n",
            "Monto  2593.742460100001  Colones\n",
            "Monto  2853.1167061100014  Colones\n",
            "Monto  3138.4283767210018  Colones\n",
            "Monto  3452.271214393102  Colones\n",
            "Monto  3797.4983358324125  Colones\n",
            "Monto  4177.248169415654  Colones\n",
            "Monto  4594.97298635722  Colones\n",
            "Monto  5054.470284992943  Colones\n",
            "Monto  5559.917313492238  Colones\n",
            "Monto  6115.909044841462  Colones\n",
            "Monto  6727.499949325608  Colones\n"
          ]
        }
      ]
    },
    {
      "cell_type": "markdown",
      "source": [
        "Divisores"
      ],
      "metadata": {
        "id": "yrOJsKnABFAk"
      }
    },
    {
      "cell_type": "code",
      "source": [
        "print(\"Digite un numero\")\n",
        "numero=int(input(\"Numero: \"))\n",
        "\n",
        "while numero>0:\n",
        "  Suma=0\n",
        "  for i in range(1,numero+1):\n",
        "    if(numero % i ==0):\n",
        "      Suma=Suma+i\n",
        "  print(Suma)\n",
        "  numero=int(input(\"Numero: \"))\n",
        "\n",
        "#1+2+5+10=18"
      ],
      "metadata": {
        "colab": {
          "base_uri": "https://localhost:8080/"
        },
        "id": "C2jW_hfXBGo9",
        "outputId": "6ba3919f-630d-423e-b9bb-0a8ef6acfec3"
      },
      "execution_count": null,
      "outputs": [
        {
          "name": "stdout",
          "output_type": "stream",
          "text": [
            "Digite un numero\n",
            "Numero: 10\n",
            "18\n",
            "Numero: 5\n",
            "6\n",
            "Numero: 100\n",
            "217\n",
            "Numero: 0\n"
          ]
        }
      ]
    }
  ]
}
