{
  "cells": [
    {
      "cell_type": "markdown",
      "metadata": {
        "id": "X7yLpcL-BPE2"
      },
      "source": [
        "Apertura de archivo\n"
      ]
    },
    {
      "cell_type": "code",
      "execution_count": 1,
      "metadata": {
        "colab": {
          "base_uri": "https://localhost:8080/",
          "height": 73
        },
        "id": "xfEWRpk8BVur",
        "outputId": "8515ca94-05ec-4483-891f-97be0d112f8e"
      },
      "outputs": [
        {
          "output_type": "display_data",
          "data": {
            "text/plain": [
              "<IPython.core.display.HTML object>"
            ],
            "text/html": [
              "\n",
              "     <input type=\"file\" id=\"files-881c6b23-6e54-45b6-ae5d-ed7bfa751d6a\" name=\"files[]\" multiple disabled\n",
              "        style=\"border:none\" />\n",
              "     <output id=\"result-881c6b23-6e54-45b6-ae5d-ed7bfa751d6a\">\n",
              "      Upload widget is only available when the cell has been executed in the\n",
              "      current browser session. Please rerun this cell to enable.\n",
              "      </output>\n",
              "      <script>// Copyright 2017 Google LLC\n",
              "//\n",
              "// Licensed under the Apache License, Version 2.0 (the \"License\");\n",
              "// you may not use this file except in compliance with the License.\n",
              "// You may obtain a copy of the License at\n",
              "//\n",
              "//      http://www.apache.org/licenses/LICENSE-2.0\n",
              "//\n",
              "// Unless required by applicable law or agreed to in writing, software\n",
              "// distributed under the License is distributed on an \"AS IS\" BASIS,\n",
              "// WITHOUT WARRANTIES OR CONDITIONS OF ANY KIND, either express or implied.\n",
              "// See the License for the specific language governing permissions and\n",
              "// limitations under the License.\n",
              "\n",
              "/**\n",
              " * @fileoverview Helpers for google.colab Python module.\n",
              " */\n",
              "(function(scope) {\n",
              "function span(text, styleAttributes = {}) {\n",
              "  const element = document.createElement('span');\n",
              "  element.textContent = text;\n",
              "  for (const key of Object.keys(styleAttributes)) {\n",
              "    element.style[key] = styleAttributes[key];\n",
              "  }\n",
              "  return element;\n",
              "}\n",
              "\n",
              "// Max number of bytes which will be uploaded at a time.\n",
              "const MAX_PAYLOAD_SIZE = 100 * 1024;\n",
              "\n",
              "function _uploadFiles(inputId, outputId) {\n",
              "  const steps = uploadFilesStep(inputId, outputId);\n",
              "  const outputElement = document.getElementById(outputId);\n",
              "  // Cache steps on the outputElement to make it available for the next call\n",
              "  // to uploadFilesContinue from Python.\n",
              "  outputElement.steps = steps;\n",
              "\n",
              "  return _uploadFilesContinue(outputId);\n",
              "}\n",
              "\n",
              "// This is roughly an async generator (not supported in the browser yet),\n",
              "// where there are multiple asynchronous steps and the Python side is going\n",
              "// to poll for completion of each step.\n",
              "// This uses a Promise to block the python side on completion of each step,\n",
              "// then passes the result of the previous step as the input to the next step.\n",
              "function _uploadFilesContinue(outputId) {\n",
              "  const outputElement = document.getElementById(outputId);\n",
              "  const steps = outputElement.steps;\n",
              "\n",
              "  const next = steps.next(outputElement.lastPromiseValue);\n",
              "  return Promise.resolve(next.value.promise).then((value) => {\n",
              "    // Cache the last promise value to make it available to the next\n",
              "    // step of the generator.\n",
              "    outputElement.lastPromiseValue = value;\n",
              "    return next.value.response;\n",
              "  });\n",
              "}\n",
              "\n",
              "/**\n",
              " * Generator function which is called between each async step of the upload\n",
              " * process.\n",
              " * @param {string} inputId Element ID of the input file picker element.\n",
              " * @param {string} outputId Element ID of the output display.\n",
              " * @return {!Iterable<!Object>} Iterable of next steps.\n",
              " */\n",
              "function* uploadFilesStep(inputId, outputId) {\n",
              "  const inputElement = document.getElementById(inputId);\n",
              "  inputElement.disabled = false;\n",
              "\n",
              "  const outputElement = document.getElementById(outputId);\n",
              "  outputElement.innerHTML = '';\n",
              "\n",
              "  const pickedPromise = new Promise((resolve) => {\n",
              "    inputElement.addEventListener('change', (e) => {\n",
              "      resolve(e.target.files);\n",
              "    });\n",
              "  });\n",
              "\n",
              "  const cancel = document.createElement('button');\n",
              "  inputElement.parentElement.appendChild(cancel);\n",
              "  cancel.textContent = 'Cancel upload';\n",
              "  const cancelPromise = new Promise((resolve) => {\n",
              "    cancel.onclick = () => {\n",
              "      resolve(null);\n",
              "    };\n",
              "  });\n",
              "\n",
              "  // Wait for the user to pick the files.\n",
              "  const files = yield {\n",
              "    promise: Promise.race([pickedPromise, cancelPromise]),\n",
              "    response: {\n",
              "      action: 'starting',\n",
              "    }\n",
              "  };\n",
              "\n",
              "  cancel.remove();\n",
              "\n",
              "  // Disable the input element since further picks are not allowed.\n",
              "  inputElement.disabled = true;\n",
              "\n",
              "  if (!files) {\n",
              "    return {\n",
              "      response: {\n",
              "        action: 'complete',\n",
              "      }\n",
              "    };\n",
              "  }\n",
              "\n",
              "  for (const file of files) {\n",
              "    const li = document.createElement('li');\n",
              "    li.append(span(file.name, {fontWeight: 'bold'}));\n",
              "    li.append(span(\n",
              "        `(${file.type || 'n/a'}) - ${file.size} bytes, ` +\n",
              "        `last modified: ${\n",
              "            file.lastModifiedDate ? file.lastModifiedDate.toLocaleDateString() :\n",
              "                                    'n/a'} - `));\n",
              "    const percent = span('0% done');\n",
              "    li.appendChild(percent);\n",
              "\n",
              "    outputElement.appendChild(li);\n",
              "\n",
              "    const fileDataPromise = new Promise((resolve) => {\n",
              "      const reader = new FileReader();\n",
              "      reader.onload = (e) => {\n",
              "        resolve(e.target.result);\n",
              "      };\n",
              "      reader.readAsArrayBuffer(file);\n",
              "    });\n",
              "    // Wait for the data to be ready.\n",
              "    let fileData = yield {\n",
              "      promise: fileDataPromise,\n",
              "      response: {\n",
              "        action: 'continue',\n",
              "      }\n",
              "    };\n",
              "\n",
              "    // Use a chunked sending to avoid message size limits. See b/62115660.\n",
              "    let position = 0;\n",
              "    do {\n",
              "      const length = Math.min(fileData.byteLength - position, MAX_PAYLOAD_SIZE);\n",
              "      const chunk = new Uint8Array(fileData, position, length);\n",
              "      position += length;\n",
              "\n",
              "      const base64 = btoa(String.fromCharCode.apply(null, chunk));\n",
              "      yield {\n",
              "        response: {\n",
              "          action: 'append',\n",
              "          file: file.name,\n",
              "          data: base64,\n",
              "        },\n",
              "      };\n",
              "\n",
              "      let percentDone = fileData.byteLength === 0 ?\n",
              "          100 :\n",
              "          Math.round((position / fileData.byteLength) * 100);\n",
              "      percent.textContent = `${percentDone}% done`;\n",
              "\n",
              "    } while (position < fileData.byteLength);\n",
              "  }\n",
              "\n",
              "  // All done.\n",
              "  yield {\n",
              "    response: {\n",
              "      action: 'complete',\n",
              "    }\n",
              "  };\n",
              "}\n",
              "\n",
              "scope.google = scope.google || {};\n",
              "scope.google.colab = scope.google.colab || {};\n",
              "scope.google.colab._files = {\n",
              "  _uploadFiles,\n",
              "  _uploadFilesContinue,\n",
              "};\n",
              "})(self);\n",
              "</script> "
            ]
          },
          "metadata": {}
        },
        {
          "output_type": "stream",
          "name": "stdout",
          "text": [
            "Saving drug_deaths.csv to drug_deaths.csv\n"
          ]
        }
      ],
      "source": [
        "from google.colab import files\n",
        "uploaded = files.upload()"
      ]
    },
    {
      "cell_type": "markdown",
      "metadata": {
        "id": "L0DSoBRaBtJb"
      },
      "source": [
        "Librerias"
      ]
    },
    {
      "cell_type": "code",
      "execution_count": 2,
      "metadata": {
        "id": "mWwjMS1hByC-"
      },
      "outputs": [],
      "source": [
        "import pandas as pd\n",
        "import matplotlib.pyplot as plt\n",
        "import seaborn as sns"
      ]
    },
    {
      "cell_type": "markdown",
      "metadata": {
        "id": "3ZnntKt_B21o"
      },
      "source": [
        "Archivo"
      ]
    },
    {
      "cell_type": "code",
      "execution_count": 3,
      "metadata": {
        "id": "HZEcMtoLB5g9",
        "colab": {
          "base_uri": "https://localhost:8080/"
        },
        "outputId": "0afd9715-4c07-4555-f3a7-6f215989dbb4"
      },
      "outputs": [
        {
          "output_type": "stream",
          "name": "stdout",
          "text": [
            "      Unnamed: 0       ID                    Date  DateType   Age     Sex  \\\n",
            "0              0  14-0273  06/28/2014 12:00:00 AM       1.0   NaN     NaN   \n",
            "1              1  13-0102  03/21/2013 12:00:00 AM       0.0  48.0    Male   \n",
            "2              2  16-0165  03/13/2016 12:00:00 AM       0.0  30.0  Female   \n",
            "3              3  16-0208  03/31/2016 12:00:00 AM       0.0  23.0    Male   \n",
            "4              4  13-0052  02/13/2013 12:00:00 AM       0.0  22.0    Male   \n",
            "...          ...      ...                     ...       ...   ...     ...   \n",
            "5100        5100  15-0466  09/08/2015 12:00:00 AM       1.0  43.0    Male   \n",
            "5101        5101  17-0618  07/22/2017 12:00:00 AM       1.0  21.0    Male   \n",
            "5102        5102  18-0646  08/14/2018 12:00:00 AM       0.0  30.0    Male   \n",
            "5103        5103  14-0124  03/16/2014 12:00:00 AM       0.0  33.0    Male   \n",
            "5104        5104  16-0637  09/15/2016 12:00:00 AM       0.0  33.0    Male   \n",
            "\n",
            "              Race  ResidenceCity ResidenceCounty ResidenceState  ... Tramad  \\\n",
            "0              NaN            NaN             NaN            NaN  ...      0   \n",
            "1            Black        NORWALK             NaN            NaN  ...      0   \n",
            "2            White     SANDY HOOK       FAIRFIELD             CT  ...      0   \n",
            "3            White            RYE     WESTCHESTER             NY  ...      0   \n",
            "4     Asian, Other       FLUSHING          QUEENS            NaN  ...      0   \n",
            "...            ...            ...             ...            ...  ...    ...   \n",
            "5100         White       CHESHIRE       NEW HAVEN             CT  ...      0   \n",
            "5101         White        MADISON       NEW HAVEN             CT  ...      0   \n",
            "5102         White  LAWRENCEVILLE           TIOGA             PA  ...      1   \n",
            "5103         White       HARTFORD             NaN            NaN  ...      0   \n",
            "5104         White      THOMASTON      LITCHFIELD             CT  ...      0   \n",
            "\n",
            "     Morphine_NotHeroin Hydromorphone Other OpiateNOS AnyOpioid MannerofDeath  \\\n",
            "0                     0             0   NaN         0         0      Accident   \n",
            "1                     0             0   NaN         0         0      Accident   \n",
            "2                     0             0   NaN         0         1      Accident   \n",
            "3                     0             0   NaN         0         1      Accident   \n",
            "4                     0             0   NaN         0         0      Accident   \n",
            "...                 ...           ...   ...       ...       ...           ...   \n",
            "5100                  0             0   NaN         0         0      Accident   \n",
            "5101                  0             0   NaN         0         0      Accident   \n",
            "5102                  0             0   NaN         0         1      Accident   \n",
            "5103                  0             0   NaN         0         0      Accident   \n",
            "5104                  0             0   NaN         0         1      Accident   \n",
            "\n",
            "                                DeathCityGeo  \\\n",
            "0                CT\\n(41.575155, -72.738288)   \n",
            "1        Norwalk, CT\\n(41.11805, -73.412906)   \n",
            "2       Danbury, CT\\n(41.393666, -73.451539)   \n",
            "3     Greenwich, CT\\n(41.026526, -73.628549)   \n",
            "4     Greenwich, CT\\n(41.026526, -73.628549)   \n",
            "...                                      ...   \n",
            "5100   CHESHIRE, CT\\n(41.498834, -72.901448)   \n",
            "5101  New Haven, CT\\n(41.308252, -72.924161)   \n",
            "5102    DANBURY, CT\\n(41.393666, -73.451539)   \n",
            "5103     WINDSOR, CT\\n(41.852781, -72.64379)   \n",
            "5104  WATERBURY, CT\\n(41.554261, -73.043069)   \n",
            "\n",
            "                             ResidenceCityGeo  \\\n",
            "0                 CT\\n(41.575155, -72.738288)   \n",
            "1         NORWALK, CT\\n(41.11805, -73.412906)   \n",
            "2     SANDY HOOK, CT\\n(41.419998, -73.282501)   \n",
            "3                                         NaN   \n",
            "4                                         NaN   \n",
            "...                                       ...   \n",
            "5100    CHESHIRE, CT\\n(41.498834, -72.901448)   \n",
            "5101      MADISON, CT\\n(41.271447, -72.60086)   \n",
            "5102                                      NaN   \n",
            "5103    HARTFORD, CT\\n(41.765775, -72.673356)   \n",
            "5104   THOMASTON, CT\\n(41.674124, -73.073189)   \n",
            "\n",
            "                                   InjuryCityGeo  \n",
            "0                    CT\\n(41.575155, -72.738288)  \n",
            "1                    CT\\n(41.575155, -72.738288)  \n",
            "2                                            NaN  \n",
            "3                                            NaN  \n",
            "4                    CT\\n(41.575155, -72.738288)  \n",
            "...                                          ...  \n",
            "5100                 CT\\n(41.575155, -72.738288)  \n",
            "5101                 CT\\n(41.575155, -72.738288)  \n",
            "5102        DANBURY, CT\\n(41.393666, -73.451539)  \n",
            "5103                 CT\\n(41.575155, -72.738288)  \n",
            "5104  WATERBURY, CT, CT\\n(41.554261, -73.043069)  \n",
            "\n",
            "[5105 rows x 42 columns]\n"
          ]
        }
      ],
      "source": [
        "df=pd.read_csv('/content/drug_deaths.csv')\n",
        "data=pd.DataFrame(df)\n",
        "print(data)"
      ]
    },
    {
      "cell_type": "code",
      "execution_count": null,
      "metadata": {
        "colab": {
          "base_uri": "https://localhost:8080/"
        },
        "id": "v2KZFkqLGJa7",
        "outputId": "7a08c29b-fffe-4289-e21f-8732ebcbc886"
      },
      "outputs": [
        {
          "name": "stdout",
          "output_type": "stream",
          "text": [
            "<bound method NDFrame.head of       Unnamed: 0       ID                    Date  DateType   Age     Sex  \\\n",
            "0              0  14-0273  06/28/2014 12:00:00 AM       1.0   NaN     NaN   \n",
            "1              1  13-0102  03/21/2013 12:00:00 AM       0.0  48.0    Male   \n",
            "2              2  16-0165  03/13/2016 12:00:00 AM       0.0  30.0  Female   \n",
            "3              3  16-0208  03/31/2016 12:00:00 AM       0.0  23.0    Male   \n",
            "4              4  13-0052  02/13/2013 12:00:00 AM       0.0  22.0    Male   \n",
            "...          ...      ...                     ...       ...   ...     ...   \n",
            "5100        5100  15-0466  09/08/2015 12:00:00 AM       1.0  43.0    Male   \n",
            "5101        5101  17-0618  07/22/2017 12:00:00 AM       1.0  21.0    Male   \n",
            "5102        5102  18-0646  08/14/2018 12:00:00 AM       0.0  30.0    Male   \n",
            "5103        5103  14-0124  03/16/2014 12:00:00 AM       0.0  33.0    Male   \n",
            "5104        5104  16-0637  09/15/2016 12:00:00 AM       0.0  33.0    Male   \n",
            "\n",
            "              Race  ResidenceCity ResidenceCounty ResidenceState  ... Tramad  \\\n",
            "0              NaN            NaN             NaN            NaN  ...      0   \n",
            "1            Black        NORWALK             NaN            NaN  ...      0   \n",
            "2            White     SANDY HOOK       FAIRFIELD             CT  ...      0   \n",
            "3            White            RYE     WESTCHESTER             NY  ...      0   \n",
            "4     Asian, Other       FLUSHING          QUEENS            NaN  ...      0   \n",
            "...            ...            ...             ...            ...  ...    ...   \n",
            "5100         White       CHESHIRE       NEW HAVEN             CT  ...      0   \n",
            "5101         White        MADISON       NEW HAVEN             CT  ...      0   \n",
            "5102         White  LAWRENCEVILLE           TIOGA             PA  ...      1   \n",
            "5103         White       HARTFORD             NaN            NaN  ...      0   \n",
            "5104         White      THOMASTON      LITCHFIELD             CT  ...      0   \n",
            "\n",
            "     Morphine_NotHeroin Hydromorphone Other OpiateNOS AnyOpioid MannerofDeath  \\\n",
            "0                     0             0   NaN         0         0      Accident   \n",
            "1                     0             0   NaN         0         0      Accident   \n",
            "2                     0             0   NaN         0         1      Accident   \n",
            "3                     0             0   NaN         0         1      Accident   \n",
            "4                     0             0   NaN         0         0      Accident   \n",
            "...                 ...           ...   ...       ...       ...           ...   \n",
            "5100                  0             0   NaN         0         0      Accident   \n",
            "5101                  0             0   NaN         0         0      Accident   \n",
            "5102                  0             0   NaN         0         1      Accident   \n",
            "5103                  0             0   NaN         0         0      Accident   \n",
            "5104                  0             0   NaN         0         1      Accident   \n",
            "\n",
            "                                DeathCityGeo  \\\n",
            "0                CT\\n(41.575155, -72.738288)   \n",
            "1        Norwalk, CT\\n(41.11805, -73.412906)   \n",
            "2       Danbury, CT\\n(41.393666, -73.451539)   \n",
            "3     Greenwich, CT\\n(41.026526, -73.628549)   \n",
            "4     Greenwich, CT\\n(41.026526, -73.628549)   \n",
            "...                                      ...   \n",
            "5100   CHESHIRE, CT\\n(41.498834, -72.901448)   \n",
            "5101  New Haven, CT\\n(41.308252, -72.924161)   \n",
            "5102    DANBURY, CT\\n(41.393666, -73.451539)   \n",
            "5103     WINDSOR, CT\\n(41.852781, -72.64379)   \n",
            "5104  WATERBURY, CT\\n(41.554261, -73.043069)   \n",
            "\n",
            "                             ResidenceCityGeo  \\\n",
            "0                 CT\\n(41.575155, -72.738288)   \n",
            "1         NORWALK, CT\\n(41.11805, -73.412906)   \n",
            "2     SANDY HOOK, CT\\n(41.419998, -73.282501)   \n",
            "3                                         NaN   \n",
            "4                                         NaN   \n",
            "...                                       ...   \n",
            "5100    CHESHIRE, CT\\n(41.498834, -72.901448)   \n",
            "5101      MADISON, CT\\n(41.271447, -72.60086)   \n",
            "5102                                      NaN   \n",
            "5103    HARTFORD, CT\\n(41.765775, -72.673356)   \n",
            "5104   THOMASTON, CT\\n(41.674124, -73.073189)   \n",
            "\n",
            "                                   InjuryCityGeo  \n",
            "0                    CT\\n(41.575155, -72.738288)  \n",
            "1                    CT\\n(41.575155, -72.738288)  \n",
            "2                                            NaN  \n",
            "3                                            NaN  \n",
            "4                    CT\\n(41.575155, -72.738288)  \n",
            "...                                          ...  \n",
            "5100                 CT\\n(41.575155, -72.738288)  \n",
            "5101                 CT\\n(41.575155, -72.738288)  \n",
            "5102        DANBURY, CT\\n(41.393666, -73.451539)  \n",
            "5103                 CT\\n(41.575155, -72.738288)  \n",
            "5104  WATERBURY, CT, CT\\n(41.554261, -73.043069)  \n",
            "\n",
            "[5105 rows x 42 columns]>\n"
          ]
        }
      ],
      "source": [
        "print(data.head)"
      ]
    },
    {
      "cell_type": "markdown",
      "source": [
        "Grafico de Pastel \"**Muertes Ocasionadas por Drogas para cada Sexo**\""
      ],
      "metadata": {
        "id": "K4d_yXpCl7gw"
      }
    },
    {
      "cell_type": "code",
      "execution_count": 4,
      "metadata": {
        "id": "S7cYDvITCO2p"
      },
      "outputs": [],
      "source": [
        "import pandas as pd\n",
        "import matplotlib.pyplot as plt\n",
        "%matplotlib inline"
      ]
    },
    {
      "cell_type": "code",
      "source": [
        "# Mapear los valores originales a los valores en español\n",
        "sex_map = {'Male': 'Hombre', 'Female': 'Mujer'}\n",
        "df['Sex'] = df['Sex'].map(sex_map)\n",
        "\n",
        "# Agrupar los datos por la columna 'Sex' y contar el número de ocurrencias\n",
        "sex_counts = df.groupby('Sex').size()\n",
        "colors = ['darkslateblue','deeppink', 'darkslategreys']\n",
        "\n",
        "# Crear el gráfico de pastel\n",
        "plt.pie(sex_counts, labels=sex_counts.index, autopct='%1.1f%%', colors=colors, shadow=True, wedgeprops={'linewidth': 2, 'edgecolor': 'white'})\n",
        "plt.legend(title='Sexo', loc='best', labels=sex_counts.index)\n",
        "plt.title('Muertes Ocasionadas por Drogas para cada Sexo', fontweight='bold')\n",
        "plt.figure(figsize=(8, 6))\n",
        "plt.show()\n"
      ],
      "metadata": {
        "colab": {
          "base_uri": "https://localhost:8080/",
          "height": 445
        },
        "id": "KVFKkg-Uj6Xo",
        "outputId": "097abb93-7ba6-4db6-c0cd-2ea79f50bd8b"
      },
      "execution_count": 5,
      "outputs": [
        {
          "output_type": "display_data",
          "data": {
            "text/plain": [
              "<Figure size 640x480 with 1 Axes>"
            ],
            "image/png": "[encoded data removed]"
          },
          "metadata": {}
        },
        {
          "output_type": "display_data",
          "data": {
            "text/plain": [
              "<Figure size 800x600 with 0 Axes>"
            ]
          },
          "metadata": {}
        }
      ]
    },
    {
      "cell_type": "markdown",
      "metadata": {
        "id": "nrX09CjaIbr-"
      },
      "source": [
        "Histograma \"**Numero de muertes por sobredosis segun el rango de edad**\""
      ]
    },
    {
      "cell_type": "code",
      "source": [
        "# Cargar los datos en un DataFrame de Pandas\n",
        "df = pd.read_csv('drug_deaths.csv')\n",
        "\n",
        "# Crear el histograma con los datos de edad\n",
        "a = df.Age.plot.hist(color='skyblue', edgecolor='white', bins=20)\n",
        "a.set_title(r'Número de Muertes por Sobredosis según el Rango de Edad', fontweight='bold')\n",
        "a.set_xlabel('Rango de Edad')\n",
        "a.set_ylabel('Muertes por Sobredosis')\n",
        "\n",
        "# Agregar una cuadrícula\n",
        "a.grid(axis='y', alpha=0.75)\n",
        "plt.show()\n"
      ],
      "metadata": {
        "colab": {
          "base_uri": "https://localhost:8080/",
          "height": 472
        },
        "id": "MgmbqR1Kml6w",
        "outputId": "858edb8c-5c9a-4043-bdb4-f59e16eedb08"
      },
      "execution_count": 6,
      "outputs": [
        {
          "output_type": "display_data",
          "data": {
            "text/plain": [
              "<Figure size 640x480 with 1 Axes>"
            ],
            "image/png": "[encoded data removed]"
          },
          "metadata": {}
        }
      ]
    },
    {
      "cell_type": "markdown",
      "metadata": {
        "id": "YnmGP76QAeIj"
      },
      "source": [
        "**Primer Avance 10 Funciones**"
      ]
    },
    {
      "cell_type": "markdown",
      "metadata": {
        "id": "vQxj9yXTs_4-"
      },
      "source": [
        "1. Renombrar Columnas en Idioma Español"
      ]
    },
    {
      "cell_type": "code",
      "execution_count": 24,
      "metadata": {
        "colab": {
          "base_uri": "https://localhost:8080/"
        },
        "id": "zntf9OK5tpLi",
        "outputId": "c4c0d944-325e-4ac8-ed5e-7da7279f0950"
      },
      "outputs": [
        {
          "output_type": "stream",
          "name": "stdout",
          "text": [
            "   Unnamed: 0       id                   fecha  tipo_fecha  edad  genero  \\\n",
            "0           0  14-0273  06/28/2014 12:00:00 AM         1.0   NaN     NaN   \n",
            "1           1  13-0102  03/21/2013 12:00:00 AM         0.0  48.0    Male   \n",
            "2           2  16-0165  03/13/2016 12:00:00 AM         0.0  30.0  Female   \n",
            "3           3  16-0208  03/31/2016 12:00:00 AM         0.0  23.0    Male   \n",
            "4           4  13-0052  02/13/2013 12:00:00 AM         0.0  22.0    Male   \n",
            "\n",
            "           raza ciudad_residencia condado_residencia estado_residencia  ...  \\\n",
            "0           NaN               NaN                NaN               NaN  ...   \n",
            "1         Black           NORWALK                NaN               NaN  ...   \n",
            "2         White        SANDY HOOK          FAIRFIELD                CT  ...   \n",
            "3         White               RYE        WESTCHESTER                NY  ...   \n",
            "4  Asian, Other          FLUSHING             QUEENS               NaN  ...   \n",
            "\n",
            "  tramadol morfina_no_heroina hidromorfona otras_drogas oxido_nitroso  \\\n",
            "0        0                  0            0          NaN             0   \n",
            "1        0                  0            0          NaN             0   \n",
            "2        0                  0            0          NaN             0   \n",
            "3        0                  0            0          NaN             0   \n",
            "4        0                  0            0          NaN             0   \n",
            "\n",
            "  cualquier_opioide manera_muerte           geolocalizacion_ciudad_muerte  \\\n",
            "0                 0      Accident             CT\\n(41.575155, -72.738288)   \n",
            "1                 0      Accident     Norwalk, CT\\n(41.11805, -73.412906)   \n",
            "2                 1      Accident    Danbury, CT\\n(41.393666, -73.451539)   \n",
            "3                 1      Accident  Greenwich, CT\\n(41.026526, -73.628549)   \n",
            "4                 0      Accident  Greenwich, CT\\n(41.026526, -73.628549)   \n",
            "\n",
            "         geolocalizacion_ciudad_residencia geolocalizacion_ciudad_herida  \n",
            "0              CT\\n(41.575155, -72.738288)   CT\\n(41.575155, -72.738288)  \n",
            "1      NORWALK, CT\\n(41.11805, -73.412906)   CT\\n(41.575155, -72.738288)  \n",
            "2  SANDY HOOK, CT\\n(41.419998, -73.282501)                           NaN  \n",
            "3                                      NaN                           NaN  \n",
            "4                                      NaN   CT\\n(41.575155, -72.738288)  \n",
            "\n",
            "[5 rows x 42 columns]\n"
          ]
        }
      ],
      "source": [
        "def rename_columns(filename):\n",
        "\n",
        "    df = pd.read_csv(filename)\n",
        "\n",
        "    new_column_names = {\n",
        "        'ID': 'id',\n",
        "        'Date': 'fecha',\n",
        "        'DateType': 'tipo_fecha',\n",
        "        'Age': 'edad',\n",
        "        'Sex': 'genero',\n",
        "        'Race': 'raza',\n",
        "        'ResidenceCity': 'ciudad_residencia',\n",
        "        'ResidenceCounty': 'condado_residencia',\n",
        "        'ResidenceState': 'estado_residencia',\n",
        "        'DeathCity': 'ciudad_muerte',\n",
        "        'DeathCounty': 'condado_muerte',\n",
        "        'Location': 'ubicacion',\n",
        "        'LocationifOther': 'ubicacion_otra',\n",
        "        'DescriptionofInjury': 'descripcion_herida',\n",
        "        'InjuryPlace': 'lugar_herida',\n",
        "        'InjuryCity': 'ciudad_herida',\n",
        "        'InjuryCounty': 'condado_herida',\n",
        "        'InjuryState': 'estado_herida',\n",
        "        'COD': 'causa_muerte',\n",
        "        'OtherSignifican': 'otras_causas',\n",
        "        'Heroin': 'heroina',\n",
        "        'Cocaine': 'cocaina',\n",
        "        'Fentanyl': 'fentanilo',\n",
        "        'Fentanyl_Analogue': 'analogos_fentanilo',\n",
        "        'Oxycodone': 'oxycodona',\n",
        "        'Oxymorphone': 'oximorfona',\n",
        "        'Ethanol': 'etanol',\n",
        "        'Hydrocodone': 'hidrocodona',\n",
        "        'Benzodiazepine': 'benzodiacepinas',\n",
        "        'Methadone': 'metadona',\n",
        "        'Amphet': 'anfetaminas',\n",
        "        'Tramad': 'tramadol',\n",
        "        'Morphine_NotHeroin': 'morfina_no_heroina',\n",
        "        'Hydromorphone': 'hidromorfona',\n",
        "        'Other': 'otras_drogas',\n",
        "        'OpiateNOS': 'oxido_nitroso',\n",
        "        'AnyOpioid': 'cualquier_opioide',\n",
        "        'MannerofDeath': 'manera_muerte',\n",
        "        'DeathCityGeo': 'geolocalizacion_ciudad_muerte',\n",
        "        'ResidenceCityGeo': 'geolocalizacion_ciudad_residencia',\n",
        "        'InjuryCityGeo': 'geolocalizacion_ciudad_herida'\n",
        "    }\n",
        "\n",
        "    df = df.rename(columns=new_column_names)\n",
        "    return df\n",
        "\n",
        "df = rename_columns('drug_deaths.csv')\n",
        "print(df.head())\n",
        "\n"
      ]
    },
    {
      "cell_type": "markdown",
      "metadata": {
        "id": "TzL_FQY0AxMv"
      },
      "source": [
        "2.Cantidad de personas muertas por sobredosis de cada sexo"
      ]
    },
    {
      "cell_type": "code",
      "execution_count": 8,
      "metadata": {
        "colab": {
          "base_uri": "https://localhost:8080/"
        },
        "id": "y304p32nAeUx",
        "outputId": "76dc8c7a-5dc7-4fe3-dc1a-4714cc6dbf5b"
      },
      "outputs": [
        {
          "output_type": "stream",
          "name": "stdout",
          "text": [
            "Hay un total de muertes de 5099 , de los cuales 3773 son hombres , 1325 son mujeres y 1 es desconocido.\n"
          ]
        }
      ],
      "source": [
        "def Cantidad_de_Personas_en_el_Estudio_por_Genero(df):\n",
        "  resultMale=df['genero'].value_counts()['Male']\n",
        "  resultFemale=df['genero'].value_counts()['Female']\n",
        "  resultUnknown=df['genero'].value_counts()['Unknown']\n",
        "  total=str(resultMale)+\"+\"+str(resultFemale)+\"+\"+str(resultUnknown)\n",
        "  resultTotal=eval(total)\n",
        "  print(\"Hay un total de muertes de\",resultTotal,\", de los cuales\",resultMale,\"son hombres ,\", resultFemale,\"son mujeres y\",resultUnknown,\"es desconocido.\")\n",
        "Cantidad_de_Personas_en_el_Estudio_por_Genero(df)"
      ]
    },
    {
      "cell_type": "markdown",
      "metadata": {
        "id": "KtEag4UREhPl"
      },
      "source": [
        "3.Cantidad de personas muertas por sobredosis a causa de cualquier Opioide\n",
        "\n",
        "---\n",
        "\n"
      ]
    },
    {
      "cell_type": "code",
      "execution_count": 9,
      "metadata": {
        "colab": {
          "base_uri": "https://localhost:8080/"
        },
        "id": "VqiWD3LUEhU3",
        "outputId": "9a28edfe-8f0a-41d3-bfe4-a0df02c0d0aa"
      },
      "outputs": [
        {
          "output_type": "stream",
          "name": "stdout",
          "text": [
            "La cantidad de personas muertas a causa de cualquier opiode es de 2460\n"
          ]
        }
      ],
      "source": [
        "def Muertes_por_Cualquier_Opioide_totales(df):\n",
        "  resultAnyOpioid=df['cualquier_opioide'].value_counts()[1]\n",
        "  print(\"La cantidad de personas muertas a causa de cualquier opiode es de\",str(resultAnyOpioid))\n",
        "Muertes_por_Cualquier_Opioide_totales(df)"
      ]
    },
    {
      "cell_type": "markdown",
      "metadata": {
        "id": "NqEkVyWFHTyl"
      },
      "source": [
        "4.Muertes_por_Cualquier_Opioide_por_genero"
      ]
    },
    {
      "cell_type": "code",
      "execution_count": 10,
      "metadata": {
        "colab": {
          "base_uri": "https://localhost:8080/"
        },
        "id": "5r9_tizyHT4w",
        "outputId": "f273990b-3368-43ea-a65e-def2a550d559"
      },
      "outputs": [
        {
          "output_type": "stream",
          "name": "stdout",
          "text": [
            "La cantidad de hombres que fallecieron por sobredosis de cualquier opioide es de 1862 y la cantidad de mujeres fue de 594 y la cantidad de desconocidos fue de 1\n"
          ]
        }
      ],
      "source": [
        "def Muertes_por_Cualquier_Opioide_por_genero(df):\n",
        "  AnyOpioidbySex=df[['cualquier_opioide','genero']]\n",
        "  AnyOpioidbySex=AnyOpioidbySex.loc[(AnyOpioidbySex['cualquier_opioide']==\"1\")]\n",
        "  resultFemaleOpioid=AnyOpioidbySex['genero'].value_counts()['Female']\n",
        "  resultMaleOpioid=AnyOpioidbySex['genero'].value_counts()['Male']\n",
        "  resultUnknownOpioid=AnyOpioidbySex['genero'].value_counts()['Unknown']\n",
        "  print(\"La cantidad de hombres que fallecieron por sobredosis de cualquier opioide es de\",abs(resultMaleOpioid),\"y la cantidad de mujeres fue de\",abs(resultFemaleOpioid),\n",
        "        \"y la cantidad de desconocidos fue de\",abs(resultUnknownOpioid))\n",
        "Muertes_por_Cualquier_Opioide_por_genero(df)"
      ]
    },
    {
      "cell_type": "markdown",
      "metadata": {
        "id": "GzNrndmBxK4m"
      },
      "source": [
        "4.1.Muertes_por_Cualquier_Opioide_por_genero_en_rangos_de_edad"
      ]
    },
    {
      "cell_type": "code",
      "execution_count": 11,
      "metadata": {
        "colab": {
          "base_uri": "https://localhost:8080/"
        },
        "id": "CXssb1DtxLAa",
        "outputId": "df8ae674-6034-497f-9665-4f546c88872d"
      },
      "outputs": [
        {
          "output_type": "stream",
          "name": "stdout",
          "text": [
            "La menor edad en las muertes por opioides fue de 15 mientras que la mayor edad registrada fue de 84 finalmente la edad promedio en las muertes fue de 41 \n",
            " con una desviacion estandar 12 por lo que podemos concluir que hay una alta varianza en las edades\n",
            "\n",
            "Tabla de Muertes femeninas por cualquier opioide en rangos de edad\n",
            "       cantidad\n",
            "17.0         5\n",
            "18.0         1\n",
            "19.0         6\n",
            "20.0         2\n",
            "21.0        10\n",
            "22.0         9\n",
            "23.0         7\n",
            "24.0        10\n",
            "25.0        16\n",
            "26.0        12\n",
            "27.0        15\n",
            "28.0        18\n",
            "29.0        14\n",
            "30.0        16\n",
            "31.0        10\n",
            "32.0        14\n",
            "33.0        18\n",
            "34.0        16\n",
            "35.0         9\n",
            "36.0        11\n",
            "37.0        15\n",
            "38.0        13\n",
            "39.0        13\n",
            "40.0        15\n",
            "41.0        13\n",
            "42.0         9\n",
            "43.0         9\n",
            "44.0        13\n",
            "45.0        14\n",
            "46.0         8\n",
            "47.0        15\n",
            "48.0        22\n",
            "49.0        15\n",
            "50.0        19\n",
            "51.0        18\n",
            "52.0        12\n",
            "53.0        12\n",
            "54.0        23\n",
            "55.0        17\n",
            "56.0        13\n",
            "57.0        23\n",
            "58.0        11\n",
            "59.0        11\n",
            "60.0        10\n",
            "61.0         5\n",
            "62.0         7\n",
            "63.0         4\n",
            "64.0         2\n",
            "65.0         3\n",
            "66.0         5\n",
            "71.0         1\n",
            "72.0         5\n",
            "\n",
            "Tabla de Muertes masculinas por cualquier opioide en rangos de edad\n",
            "       cantidad\n",
            "15.0         1\n",
            "17.0         1\n",
            "18.0         5\n",
            "19.0         8\n",
            "20.0        13\n",
            "...        ...\n",
            "72.0         2\n",
            "73.0         2\n",
            "74.0         1\n",
            "75.0         1\n",
            "84.0         1\n",
            "\n",
            "[61 rows x 1 columns]\n",
            "\n",
            "Tabla de Muertes de genero desconocido por cualquier opioide en rangos de edad\n",
            "       cantidad\n",
            "66.0         1\n"
          ]
        },
        {
          "output_type": "stream",
          "name": "stderr",
          "text": [
            "<ipython-input-11-9716ad0381fe>:4: UserWarning: Boolean Series key will be reindexed to match DataFrame index.\n",
            "  resultFemaleOpioid=AnyOpioidbySex[(df['genero']=='Female')]\n",
            "<ipython-input-11-9716ad0381fe>:6: UserWarning: Boolean Series key will be reindexed to match DataFrame index.\n",
            "  resultMaleOpioid=AnyOpioidbySex[(df['genero']=='Male')]\n",
            "<ipython-input-11-9716ad0381fe>:8: UserWarning: Boolean Series key will be reindexed to match DataFrame index.\n",
            "  resultUnknownOpioid=AnyOpioidbySex[(df['genero']=='Unknown')]\n"
          ]
        }
      ],
      "source": [
        "def Muertes_por_Cualquier_Opioide_por_genero_en_rangos_de_edad(df):\n",
        "  AnyOpioidbySex=df[['cualquier_opioide','genero','edad']]\n",
        "  AnyOpioidbySex=AnyOpioidbySex.loc[(AnyOpioidbySex['cualquier_opioide']==\"1\")]\n",
        "  resultFemaleOpioid=AnyOpioidbySex[(df['genero']=='Female')]\n",
        "  resultFemaleOpioid=resultFemaleOpioid['edad'].value_counts()\n",
        "  resultMaleOpioid=AnyOpioidbySex[(df['genero']=='Male')]\n",
        "  resultMaleOpioid=resultMaleOpioid['edad'].value_counts()\n",
        "  resultUnknownOpioid=AnyOpioidbySex[(df['genero']=='Unknown')]\n",
        "  resultUnknownOpioid=resultUnknownOpioid['edad'].value_counts()\n",
        "  new_column_names = {\n",
        "      'edad': 'cantidad'\n",
        "    }\n",
        "  print(\"La menor edad en las muertes por opioides fue de\",int(AnyOpioidbySex.edad.min()),\"mientras que la mayor edad registrada fue de\",int(AnyOpioidbySex.edad.max()),\n",
        "        \"finalmente la edad promedio en las muertes fue de\",int(AnyOpioidbySex.edad.mean()),\"\\n\",\"con una desviacion estandar\",\n",
        "        int(AnyOpioidbySex.edad.std()),\"por lo que podemos concluir que hay una alta varianza en las edades\")\n",
        "  resultFemaleOpioid=pd.DataFrame(resultFemaleOpioid)\n",
        "  resultFemaleOpioid = resultFemaleOpioid.rename(columns=new_column_names)\n",
        "  print(\"\\nTabla de Muertes femeninas por cualquier opioide en rangos de edad\\n\",resultFemaleOpioid.sort_index(axis = 0))\n",
        "  resultMaleOpioid=pd.DataFrame(resultMaleOpioid)\n",
        "  resultMaleOpioid = resultMaleOpioid.rename(columns=new_column_names)\n",
        "  print(\"\\nTabla de Muertes masculinas por cualquier opioide en rangos de edad\\n\",resultMaleOpioid.sort_index(axis = 0))\n",
        "  resultUnknownOpioid=pd.DataFrame(resultUnknownOpioid)\n",
        "  resultUnknownOpioid = resultUnknownOpioid.rename(columns=new_column_names)\n",
        "  print(\"\\nTabla de Muertes de genero desconocido por cualquier opioide en rangos de edad\\n\",resultUnknownOpioid.sort_index(axis = 0))\n",
        "Muertes_por_Cualquier_Opioide_por_genero_en_rangos_de_edad(df)"
      ]
    },
    {
      "cell_type": "markdown",
      "metadata": {
        "id": "foCKpaGKKIIB"
      },
      "source": [
        "5.Muertes_por_Hidromorfona_totales"
      ]
    },
    {
      "cell_type": "code",
      "execution_count": 12,
      "metadata": {
        "colab": {
          "base_uri": "https://localhost:8080/"
        },
        "id": "SoawwFFBKIOX",
        "outputId": "0e4471be-47d4-4827-e17b-9ca393fef4c4"
      },
      "outputs": [
        {
          "output_type": "stream",
          "name": "stdout",
          "text": [
            "La cantidad de personas muertas a causa de hidromorfona es de 25\n"
          ]
        }
      ],
      "source": [
        "def Muertes_por_Hidromorfona_totales(df):\n",
        "  resultHydromorphone=df['hidromorfona'].value_counts()[1]\n",
        "  print(\"La cantidad de personas muertas a causa de hidromorfona es de\",str(resultHydromorphone))\n",
        "Muertes_por_Hidromorfona_totales(df)"
      ]
    },
    {
      "cell_type": "markdown",
      "metadata": {
        "id": "bDJaZb0cOVFf"
      },
      "source": [
        "6.Muertes_por_Hidromorfona_por_genero"
      ]
    },
    {
      "cell_type": "code",
      "execution_count": 13,
      "metadata": {
        "colab": {
          "base_uri": "https://localhost:8080/"
        },
        "id": "-dqtafuPOVXF",
        "outputId": "01a2f8b0-bd83-4562-8f97-5fdb71d25a35"
      },
      "outputs": [
        {
          "output_type": "stream",
          "name": "stdout",
          "text": [
            "La cantidad de hombres que fallecieron por sobredosis de hidromorfona es de 15 y la cantidad de mujeres fue de 9 y la cantidad de desconocido fue de 1\n"
          ]
        }
      ],
      "source": [
        "def Muertes_por_Hidromorfona_por_genero(df):\n",
        "  HydromorphonebySex=df[['hidromorfona','genero']]\n",
        "  HydromorphonebySex=HydromorphonebySex.loc[(HydromorphonebySex['hidromorfona']==1)]\n",
        "  resultFemaleHydromorphone=HydromorphonebySex['genero'].value_counts()['Female']\n",
        "  resultMaleHydromorphone=HydromorphonebySex['genero'].value_counts()['Male']\n",
        "  resultUnknownHydromorphone=HydromorphonebySex['genero'].value_counts()['Unknown']\n",
        "  print(\"La cantidad de hombres que fallecieron por sobredosis de hidromorfona es de\",abs(resultMaleHydromorphone),\"y la cantidad de mujeres fue de\",abs(resultFemaleHydromorphone),\n",
        "        \"y la cantidad de desconocido fue de\",abs(resultUnknownHydromorphone))\n",
        "Muertes_por_Hidromorfona_por_genero(df)"
      ]
    },
    {
      "cell_type": "markdown",
      "metadata": {
        "id": "MeeUav0DxQro"
      },
      "source": [
        "6.1.Muertes_por_Hidromorfona_por_genero_Muertes_por_Hidromorfona_por_genero_en_rangos_de_edad"
      ]
    },
    {
      "cell_type": "code",
      "execution_count": 14,
      "metadata": {
        "colab": {
          "base_uri": "https://localhost:8080/"
        },
        "id": "y3KsDPM8xQz1",
        "outputId": "1c2353e5-f38f-4ee4-fe4c-0ff9909ae28b"
      },
      "outputs": [
        {
          "output_type": "stream",
          "name": "stdout",
          "text": [
            "La menor edad en las muertes por opioides fue de 23 mientras que la mayor edad registrada fue de 66 finalmente la edad promedio en las muertes fue de 49 \n",
            " con una desviacion estandar 12 por lo que podemos concluir que hay una alta varianza en las edades\n",
            "\n",
            "Tabla de Muertes femeninas por cualquier opioide en rangos de edad\n",
            "       cantidad\n",
            "36.0         1\n",
            "41.0         1\n",
            "48.0         1\n",
            "50.0         1\n",
            "55.0         1\n",
            "56.0         1\n",
            "61.0         1\n",
            "62.0         1\n",
            "66.0         1\n",
            "\n",
            "Tabla de Muertes masculinas por cualquier opioide en rangos de edad\n",
            "       cantidad\n",
            "23.0         1\n",
            "32.0         2\n",
            "34.0         1\n",
            "37.0         2\n",
            "47.0         1\n",
            "52.0         2\n",
            "53.0         1\n",
            "57.0         1\n",
            "59.0         1\n",
            "60.0         2\n",
            "63.0         1\n",
            "\n",
            "Tabla de Muertes de genero desconocido por cualquier opioide en rangos de edad\n",
            "       cantidad\n",
            "66.0         1\n"
          ]
        },
        {
          "output_type": "stream",
          "name": "stderr",
          "text": [
            "<ipython-input-14-d733fd344761>:4: UserWarning: Boolean Series key will be reindexed to match DataFrame index.\n",
            "  resultFemaleHydromorphone=HydromorphonebySex[(df['genero']=='Female')]\n",
            "<ipython-input-14-d733fd344761>:6: UserWarning: Boolean Series key will be reindexed to match DataFrame index.\n",
            "  resultMaleHydromorphone=HydromorphonebySex[(df['genero']=='Male')]\n",
            "<ipython-input-14-d733fd344761>:8: UserWarning: Boolean Series key will be reindexed to match DataFrame index.\n",
            "  resultUnknownHydromorphone=HydromorphonebySex[(df['genero']=='Unknown')]\n"
          ]
        }
      ],
      "source": [
        "def Muertes_por_Hidromorfona_por_genero_en_rangos_de_edad(df):\n",
        "  HydromorphonebySex=df[['hidromorfona','genero','edad']]\n",
        "  HydromorphonebySex=HydromorphonebySex.loc[(HydromorphonebySex['hidromorfona']==1)]\n",
        "  resultFemaleHydromorphone=HydromorphonebySex[(df['genero']=='Female')]\n",
        "  resultFemaleHydromorphone=resultFemaleHydromorphone['edad'].value_counts()\n",
        "  resultMaleHydromorphone=HydromorphonebySex[(df['genero']=='Male')]\n",
        "  resultMaleHydromorphone=resultMaleHydromorphone['edad'].value_counts()\n",
        "  resultUnknownHydromorphone=HydromorphonebySex[(df['genero']=='Unknown')]\n",
        "  resultUnknownHydromorphone=resultUnknownHydromorphone['edad'].value_counts()\n",
        "  new_column_names = {\n",
        "      'edad': 'cantidad'\n",
        "    }\n",
        "  print(\"La menor edad en las muertes por opioides fue de\",int(HydromorphonebySex.edad.min()),\"mientras que la mayor edad registrada fue de\",int(HydromorphonebySex.edad.max()),\n",
        "      \"finalmente la edad promedio en las muertes fue de\",int(HydromorphonebySex.edad.mean()),\"\\n\",\"con una desviacion estandar\",\n",
        "        int(HydromorphonebySex.edad.std()),\"por lo que podemos concluir que hay una alta varianza en las edades\")\n",
        "  resultFemaleHydromorphone=pd.DataFrame(resultFemaleHydromorphone)\n",
        "  resultFemaleHydromorphone = resultFemaleHydromorphone.rename(columns=new_column_names)\n",
        "  print(\"\\nTabla de Muertes femeninas por cualquier opioide en rangos de edad\\n\",resultFemaleHydromorphone.sort_index(axis = 0))\n",
        "  resultMaleHydromorphone=pd.DataFrame(resultMaleHydromorphone)\n",
        "  resultMaleHydromorphone = resultMaleHydromorphone.rename(columns=new_column_names)\n",
        "  print(\"\\nTabla de Muertes masculinas por cualquier opioide en rangos de edad\\n\",resultMaleHydromorphone.sort_index(axis = 0))\n",
        "  resultUnknownHydromorphone=pd.DataFrame(resultUnknownHydromorphone)\n",
        "  resultUnknownHydromorphone = resultUnknownHydromorphone.rename(columns=new_column_names)\n",
        "  print(\"\\nTabla de Muertes de genero desconocido por cualquier opioide en rangos de edad\\n\",resultUnknownHydromorphone.sort_index(axis = 0))\n",
        "Muertes_por_Hidromorfona_por_genero_en_rangos_de_edad(df)"
      ]
    },
    {
      "cell_type": "markdown",
      "metadata": {
        "id": "3RiEFSARPvU8"
      },
      "source": [
        "7.Causas_de_muerte\n",
        "\n"
      ]
    },
    {
      "cell_type": "code",
      "execution_count": 15,
      "metadata": {
        "colab": {
          "base_uri": "https://localhost:8080/"
        },
        "id": "Y0xPus1qPvbl",
        "outputId": "6b2ee561-7e8c-45c2-ec4a-b4eb70a465e5"
      },
      "outputs": [
        {
          "output_type": "stream",
          "name": "stdout",
          "text": [
            "El numero total de muertes fue de 5095 , de las cuales 5080 fueron accidentales, 1 fueron naturales y 14 siguen pendientes a determinar al momento del estudio.\n"
          ]
        }
      ],
      "source": [
        "def Causas_de_muerte(df):\n",
        "  resultAccident=df['manera_muerte'].value_counts()['Accident']\n",
        "  resultAccident=resultAccident+df['manera_muerte'].value_counts()['ACCIDENT']\n",
        "  resultAccident=resultAccident+df['manera_muerte'].value_counts()['accident']\n",
        "  resultNatural=df['manera_muerte'].value_counts()['Natural']\n",
        "  resultPending=df['manera_muerte'].value_counts()['Pending']\n",
        "  MannerofDeathArray=[resultAccident,resultNatural,resultPending]\n",
        "  MannerofDeath=sum(MannerofDeathArray)\n",
        "  print(\"El numero total de muertes fue de\",MannerofDeath,\", de las cuales\",resultAccident,\"fueron accidentales,\",\n",
        "        resultNatural,\"fueron naturales y\",resultPending,\"siguen pendientes a determinar al momento del estudio.\")\n",
        "Causas_de_muerte(df)"
      ]
    },
    {
      "cell_type": "markdown",
      "metadata": {
        "id": "yJ-FU02CulGM"
      },
      "source": [
        "8. Muertes segun la edad de los ciudadanos en el estado de CT y NY en el año 2018"
      ]
    },
    {
      "cell_type": "code",
      "execution_count": 16,
      "metadata": {
        "colab": {
          "base_uri": "https://localhost:8080/"
        },
        "id": "rNRVgg-55jM6",
        "outputId": "74476b77-9fb3-48ee-feeb-1518d4ecc924"
      },
      "outputs": [
        {
          "output_type": "stream",
          "name": "stdout",
          "text": [
            "El número de muertes por drogas en el estado de NY en el año 2018, por edad, es:\n",
            "29.0    3\n",
            "27.0    1\n",
            "58.0    1\n",
            "41.0    1\n",
            "22.0    1\n",
            "Name: edad, dtype: int64\n",
            "El número de muertes por drogas en el estado de Connecticut en el año 2018, por edad, es:\n",
            "36.0    34\n",
            "34.0    30\n",
            "54.0    28\n",
            "53.0    27\n",
            "35.0    26\n",
            "44.0    26\n",
            "41.0    26\n",
            "29.0    26\n",
            "48.0    26\n",
            "30.0    26\n",
            "37.0    25\n",
            "52.0    25\n",
            "51.0    25\n",
            "57.0    24\n",
            "43.0    24\n",
            "50.0    24\n",
            "33.0    23\n",
            "46.0    23\n",
            "47.0    22\n",
            "42.0    22\n",
            "32.0    21\n",
            "39.0    21\n",
            "28.0    21\n",
            "40.0    21\n",
            "56.0    20\n",
            "49.0    20\n",
            "38.0    20\n",
            "27.0    19\n",
            "59.0    19\n",
            "24.0    19\n",
            "45.0    17\n",
            "23.0    17\n",
            "55.0    17\n",
            "60.0    16\n",
            "64.0    14\n",
            "31.0    14\n",
            "61.0    14\n",
            "25.0    14\n",
            "58.0    12\n",
            "63.0    12\n",
            "22.0    11\n",
            "65.0    11\n",
            "26.0    11\n",
            "66.0     9\n",
            "62.0     9\n",
            "21.0     7\n",
            "20.0     5\n",
            "67.0     4\n",
            "69.0     4\n",
            "19.0     3\n",
            "17.0     3\n",
            "68.0     2\n",
            "71.0     1\n",
            "15.0     1\n",
            "74.0     1\n",
            "84.0     1\n",
            "72.0     1\n",
            "75.0     1\n",
            "Name: edad, dtype: int64\n"
          ]
        }
      ],
      "source": [
        "def muertes_por_edad_2018_NY(df):\n",
        "    df_2018_NY = df[(df['fecha'].str.contains('2018')) & (df['estado_residencia'] == 'NY')]\n",
        "    muertes_por_edad = df_2018_NY['edad'].value_counts()\n",
        "    print( f\"El número de muertes por drogas en el estado de NY en el año 2018, por edad, es:\\n{muertes_por_edad}\" )\n",
        "muertes_por_edad_2018_NY(df)\n",
        "\n",
        "def muertes_por_edad_2018_CT(df):\n",
        "    df_2018_CT = df[(df['fecha'].str.contains('2018')) & (df['estado_residencia'] == 'CT')]\n",
        "    muertes_por_edad = df_2018_CT['edad'].value_counts()\n",
        "    print( f\"El número de muertes por drogas en el estado de Connecticut en el año 2018, por edad, es:\\n{muertes_por_edad}\" )\n",
        "muertes_por_edad_2018_CT(df)\n"
      ]
    },
    {
      "cell_type": "markdown",
      "source": [
        "8.1 Tasa de Mortalidad: De muertes segun la edad de los ciudadanos en el estado de CT y NY en el año 2018"
      ],
      "metadata": {
        "id": "gHNo5qUDq7_u"
      }
    },
    {
      "cell_type": "code",
      "source": [
        "# Población de Nueva York y Connecticut en 2018\n",
        "poblacion_NY = 19530000\n",
        "poblacion_CT = 3573000\n",
        "\n",
        "# Número de muertes por drogas en Nueva York y Connecticut en 2018, por edad\n",
        "muertes_por_edad_NY = df[(df['fecha'].str.contains('2018')) & (df['estado_residencia'] == 'NY')]['edad'].value_counts()\n",
        "muertes_por_edad_CT = df[(df['fecha'].str.contains('2018')) & (df['estado_residencia'] == 'CT')]['edad'].value_counts()\n",
        "\n",
        "# Tasa de mortalidad por drogas en Nueva York y Connecticut en 2018, por edad\n",
        "tasa_mortalidad_NY = (muertes_por_edad_NY / poblacion_NY) * 100000\n",
        "tasa_mortalidad_CT = (muertes_por_edad_CT / poblacion_CT) * 100000\n",
        "\n",
        "print(\"Tasa de mortalidad por drogas en Nueva York en 2018, por edad:\")\n",
        "print(tasa_mortalidad_NY)\n",
        "print(\"\\nTasa de mortalidad por drogas en Connecticut en 2018, por edad:\")\n",
        "print(tasa_mortalidad_CT)\n",
        "\n",
        "max_tasa_mortalidad_NY = tasa_mortalidad_NY.max()\n",
        "max_tasa_mortalidad_CT = tasa_mortalidad_CT.max()\n",
        "\n",
        "if max_tasa_mortalidad_NY > max_tasa_mortalidad_CT:\n",
        "    print(\"La tasa de mortalidad más alta por drogas en 2018, por edad, fue en Nueva York.\")\n",
        "elif max_tasa_mortalidad_NY < max_tasa_mortalidad_CT:\n",
        "    print(\"La tasa de mortalidad más alta por drogas en 2018, por edad, fue en Connecticut.\")\n",
        "else:\n",
        "    print(\"La tasa de mortalidad por drogas en 2018, por edad, fue igual en ambos estados.\")\n",
        "\n"
      ],
      "metadata": {
        "colab": {
          "base_uri": "https://localhost:8080/"
        },
        "id": "OtjwznUIqsqB",
        "outputId": "fc466df9-9333-4228-9c30-43477ec96c67"
      },
      "execution_count": 17,
      "outputs": [
        {
          "output_type": "stream",
          "name": "stdout",
          "text": [
            "Tasa de mortalidad por drogas en Nueva York en 2018, por edad:\n",
            "29.0    0.015361\n",
            "27.0    0.005120\n",
            "58.0    0.005120\n",
            "41.0    0.005120\n",
            "22.0    0.005120\n",
            "Name: edad, dtype: float64\n",
            "\n",
            "Tasa de mortalidad por drogas en Connecticut en 2018, por edad:\n",
            "36.0    0.951581\n",
            "34.0    0.839631\n",
            "54.0    0.783655\n",
            "53.0    0.755668\n",
            "35.0    0.727680\n",
            "44.0    0.727680\n",
            "41.0    0.727680\n",
            "29.0    0.727680\n",
            "48.0    0.727680\n",
            "30.0    0.727680\n",
            "37.0    0.699692\n",
            "52.0    0.699692\n",
            "51.0    0.699692\n",
            "57.0    0.671704\n",
            "43.0    0.671704\n",
            "50.0    0.671704\n",
            "33.0    0.643717\n",
            "46.0    0.643717\n",
            "47.0    0.615729\n",
            "42.0    0.615729\n",
            "32.0    0.587741\n",
            "39.0    0.587741\n",
            "28.0    0.587741\n",
            "40.0    0.587741\n",
            "56.0    0.559754\n",
            "49.0    0.559754\n",
            "38.0    0.559754\n",
            "27.0    0.531766\n",
            "59.0    0.531766\n",
            "24.0    0.531766\n",
            "45.0    0.475791\n",
            "23.0    0.475791\n",
            "55.0    0.475791\n",
            "60.0    0.447803\n",
            "64.0    0.391828\n",
            "31.0    0.391828\n",
            "61.0    0.391828\n",
            "25.0    0.391828\n",
            "58.0    0.335852\n",
            "63.0    0.335852\n",
            "22.0    0.307865\n",
            "65.0    0.307865\n",
            "26.0    0.307865\n",
            "66.0    0.251889\n",
            "62.0    0.251889\n",
            "21.0    0.195914\n",
            "20.0    0.139938\n",
            "67.0    0.111951\n",
            "69.0    0.111951\n",
            "19.0    0.083963\n",
            "17.0    0.083963\n",
            "68.0    0.055975\n",
            "71.0    0.027988\n",
            "15.0    0.027988\n",
            "74.0    0.027988\n",
            "84.0    0.027988\n",
            "72.0    0.027988\n",
            "75.0    0.027988\n",
            "Name: edad, dtype: float64\n",
            "La tasa de mortalidad más alta por drogas en 2018, por edad, fue en Connecticut.\n"
          ]
        }
      ]
    },
    {
      "cell_type": "markdown",
      "metadata": {
        "id": "xU_sZGc2rQfj"
      },
      "source": [
        "9.Cantidades de muertes por sobredosis en la region madison"
      ]
    },
    {
      "cell_type": "code",
      "execution_count": 18,
      "metadata": {
        "colab": {
          "base_uri": "https://localhost:8080/"
        },
        "id": "JTtbIWxersTa",
        "outputId": "3ad19c7e-2c9d-441e-8bfa-039911f7cce3"
      },
      "outputs": [
        {
          "output_type": "stream",
          "name": "stdout",
          "text": [
            "El número de muertes por sobredosis de droga en la región de Madison es: 0\n"
          ]
        }
      ],
      "source": [
        "def muerteSobredosisMadison(df):\n",
        "    dfMadison = df[df['estado_residencia'] == 'MADISON']\n",
        "    numero_muertes = dfMadison.shape[0]  # Calcula el número de filas en dfMadison\n",
        "\n",
        "    print(f\"El número de muertes por sobredosis de droga en la región de Madison es: {numero_muertes}\")\n",
        "\n",
        "# Llama a la función pasando tu DataFrame como argumento\n",
        "muerteSobredosisMadison(df)"
      ]
    },
    {
      "cell_type": "markdown",
      "metadata": {
        "id": "hbqT0bPquhPJ"
      },
      "source": [
        "10. Numeros de muertes en personas mayores a 25 años de edad con sobredosis de morfina"
      ]
    },
    {
      "cell_type": "code",
      "execution_count": 19,
      "metadata": {
        "id": "OhwulL89u9dG",
        "colab": {
          "base_uri": "https://localhost:8080/"
        },
        "outputId": "d65bb3ca-6eb8-4147-9204-cc02331775f6"
      },
      "outputs": [
        {
          "output_type": "stream",
          "name": "stdout",
          "text": [
            "Cantidad de personas mayores de 25 años con sobredosis de morfina: 2\n"
          ]
        }
      ],
      "source": [
        "def contar_personas_sobredosis_morfina(df):\n",
        "    # Filtrar las filas donde la edad es mayor de 25 y hay sobredosis de morfina\n",
        "    personas_sobredosis_morfina = df[(df['edad'] > 25) & (df['morfina_no_heroina'] == 1)]\n",
        "\n",
        "    # Contar la cantidad de personas en el DataFrame resultante\n",
        "    cantidad_personas = len(personas_sobredosis_morfina)\n",
        "\n",
        "    # Imprimir la cantidad de personas\n",
        "    print(f\"Cantidad de personas mayores de 25 años con sobredosis de morfina: {cantidad_personas}\")\n",
        "\n",
        "# Llamar a la función con tu DataFrame\n",
        "df = pd.DataFrame({'edad': [30, 40, 20, 28, 35],\n",
        "                   'morfina_no_heroina': [1, 0, 1, 1, 0]})\n",
        "\n",
        "contar_personas_sobredosis_morfina(df)"
      ]
    },
    {
      "cell_type": "markdown",
      "metadata": {
        "id": "NdtvE7-stA74"
      },
      "source": [
        "11.Gráfico sobre la Evolucion de las Muertes por Sobredosis a lo largo de los años"
      ]
    },
    {
      "cell_type": "code",
      "execution_count": 28,
      "metadata": {
        "colab": {
          "base_uri": "https://localhost:8080/",
          "height": 565
        },
        "id": "tCVUiO4f1JvL",
        "outputId": "2827d333-c866-4519-c08a-f54ed43f7abd"
      },
      "outputs": [
        {
          "output_type": "display_data",
          "data": {
            "text/plain": [
              "<Figure size 1000x600 with 1 Axes>"
            ],
            "image/png": "[encoded data removed]"
          },
          "metadata": {}
        }
      ],
      "source": [
        "def Evolucion_de_Muertes_por_Sobredosis_por_Ano(df):\n",
        "    df['fecha'] = pd.to_datetime(df['fecha'])\n",
        "\n",
        "    df['año'] = df['fecha'].dt.year\n",
        "\n",
        "    muertes_por_año = df.groupby('año').size() #Agrupa y cuenta las muertes por año\n",
        "\n",
        "    plt.figure(figsize=(10, 6))\n",
        "    plt.plot(muertes_por_año.index, muertes_por_año.values, marker='o', linestyle='-', color='b')\n",
        "    plt.xlabel('Año')\n",
        "    plt.ylabel('Número de Muertes por Sobredosis en USA')\n",
        "    plt.title('Evolución de Muertes por Sobredosis (2012-2018)')\n",
        "    plt.grid(True)\n",
        "    plt.show()\n",
        "\n",
        "Evolucion_de_Muertes_por_Sobredosis_por_Ano(df)"
      ]
    },
    {
      "cell_type": "markdown",
      "metadata": {
        "id": "GNX8jAR71oq3"
      },
      "source": [
        "12. Gráfico de Cantidad de Muertes segun el tipo de droga"
      ]
    },
    {
      "cell_type": "code",
      "execution_count": 25,
      "metadata": {
        "colab": {
          "base_uri": "https://localhost:8080/",
          "height": 565
        },
        "id": "ca4oOt6U1shH",
        "outputId": "4c9b5262-73a1-455f-eb5b-e39a42806549"
      },
      "outputs": [
        {
          "output_type": "display_data",
          "data": {
            "text/plain": [
              "<Figure size 1200x600 with 1 Axes>"
            ],
            "image/png": "[encoded data removed]"
          },
          "metadata": {}
        }
      ],
      "source": [
        "def Grafico_Muertes_por_Tipo_de_Droga(df):\n",
        "    drogas = ['heroina', 'cocaina', 'fentanilo', 'analogos_fentanilo', 'oxycodona', 'oximorfona', 'etanol',\n",
        "             'hidrocodona', 'benzodiacepinas', 'metadona', 'anfetaminas', 'tramadol', 'morfina_no_heroina',\n",
        "             'oxido_nitroso', 'cualquier_opioide', 'otras_drogas']\n",
        "\n",
        "    for droga in drogas:\n",
        "        df[droga] = pd.to_numeric(df[droga], errors='coerce')\n",
        "\n",
        "    muertes_por_droga = {}\n",
        "\n",
        "    for droga in drogas:\n",
        "        muertes_por_droga[droga] = df[droga].sum()\n",
        "\n",
        "    nombres_drogas = list(muertes_por_droga.keys())\n",
        "    muertes = list(muertes_por_droga.values())\n",
        "\n",
        "    plt.figure(figsize=(12, 6))\n",
        "    plt.barh(nombres_drogas, muertes, color='skyblue')\n",
        "    plt.xlabel('Número de Muertes')\n",
        "    plt.ylabel('Tipo de Droga')\n",
        "    plt.title('Número de Muertes por Tipo de Droga')\n",
        "    plt.gca().invert_yaxis()\n",
        "    plt.show()\n",
        "\n",
        "Grafico_Muertes_por_Tipo_de_Droga(df)"
      ]
    },
    {
      "cell_type": "markdown",
      "source": [
        "13.Muertes_por_Tipo_de_Droga"
      ],
      "metadata": {
        "id": "Y2_Jnb95_wh3"
      }
    },
    {
      "cell_type": "code",
      "source": [
        "def Muertes_por_Tipo_de_Droga(df):\n",
        "    drogas = ['heroina', 'cocaina', 'fentanilo', 'analogos_fentanilo', 'oxycodona', 'oximorfona', 'etanol',\n",
        "             'hidrocodona', 'benzodiacepinas', 'metadona', 'anfetaminas', 'tramadol', 'morfina_no_heroina',\n",
        "             'oxido_nitroso', 'cualquier_opioide', 'otras_drogas']\n",
        "\n",
        "    for droga in drogas:\n",
        "        df[droga] = pd.to_numeric(df[droga], errors='coerce')\n",
        "\n",
        "    muertes_por_droga = {}\n",
        "\n",
        "    for droga in drogas:\n",
        "        muertes_por_droga[droga] = df[droga].sum()\n",
        "\n",
        "    nombres_drogas = list(muertes_por_droga.keys())\n",
        "    muertes = list(muertes_por_droga.values())\n",
        "    dfpresent = pd.DataFrame({'droga' : list(muertes_por_droga.keys()), 'cantidad' : list(muertes_por_droga.values())})\n",
        "    print(\"Lista de drogas con sus muertes totales asociadas\")\n",
        "    print(dfpresent)\n",
        "\n",
        "Muertes_por_Tipo_de_Droga(df)"
      ],
      "metadata": {
        "colab": {
          "base_uri": "https://localhost:8080/"
        },
        "id": "EIhhiVMS_wsh",
        "outputId": "595f7ad4-df28-46de-910c-05c877fe31f9"
      },
      "execution_count": 26,
      "outputs": [
        {
          "output_type": "stream",
          "name": "stdout",
          "text": [
            "Lista de drogas con sus muertes totales asociadas\n",
            "                 droga  cantidad\n",
            "0              heroina    2529.0\n",
            "1              cocaina    1521.0\n",
            "2            fentanilo    2228.0\n",
            "3   analogos_fentanilo     389.0\n",
            "4            oxycodona     607.0\n",
            "5           oximorfona     108.0\n",
            "6               etanol    1247.0\n",
            "7          hidrocodona     118.0\n",
            "8      benzodiacepinas    1343.0\n",
            "9             metadona     474.0\n",
            "10         anfetaminas     159.0\n",
            "11            tramadol     130.0\n",
            "12  morfina_no_heroina      38.0\n",
            "13       oxido_nitroso      88.0\n",
            "14   cualquier_opioide    2460.0\n",
            "15        otras_drogas       0.0\n"
          ]
        }
      ]
    },
    {
      "cell_type": "markdown",
      "source": [
        "14.Data_Evolucion_de_Muertes_por_Sobredosis_por_Año"
      ],
      "metadata": {
        "id": "VqRI14DLBjfM"
      }
    },
    {
      "cell_type": "code",
      "source": [
        "def Data_Evolucion_de_Muertes_por_Sobredosis_por_Año(df):\n",
        "    df['fecha'] = pd.to_datetime(df['fecha'])\n",
        "\n",
        "    df['año'] = df['fecha'].dt.year\n",
        "\n",
        "    muertes_por_año = df.groupby('año').size() #Agrupa y cuenta las muertes por año\n",
        "    muertes_por_año.columns =['Año', 'Cantidad']\n",
        "    print(\"Lista de años con sus respectivas muertes por sobredosis\")\n",
        "    print(muertes_por_año)\n",
        "\n",
        "Data_Evolucion_de_Muertes_por_Sobredosis_por_Año(df)"
      ],
      "metadata": {
        "colab": {
          "base_uri": "https://localhost:8080/"
        },
        "id": "8jmFqctcBltd",
        "outputId": "6b2a0bd5-5e01-47aa-d1b9-b8f3fbe8781b"
      },
      "execution_count": 27,
      "outputs": [
        {
          "output_type": "stream",
          "name": "stdout",
          "text": [
            "Lista de años con sus respectivas muertes por sobredosis\n",
            "año\n",
            "2012.0     355\n",
            "2013.0     490\n",
            "2014.0     558\n",
            "2015.0     727\n",
            "2016.0     917\n",
            "2017.0    1038\n",
            "2018.0    1018\n",
            "dtype: int64\n"
          ]
        }
      ]
    }
  ],
  "metadata": {
    "colab": {
      "provenance": []
    },
    "kernelspec": {
      "display_name": "Python 3",
      "name": "python3"
    },
    "language_info": {
      "name": "python"
    }
  },
  "nbformat": 4,
  "nbformat_minor": 0
}