{
  "nbformat": 4,
  "nbformat_minor": 0,
  "metadata": {
    "colab": {
      "provenance": [],
      "authorship_tag": "ABX9TyO2khzsl/1Ds6vA/sHZUTuL",
      "include_colab_link": true
    },
    "kernelspec": {
      "name": "python3",
      "display_name": "Python 3"
    },
    "language_info": {
      "name": "python"
    }
  },
  "cells": [
    {
      "cell_type": "markdown",
      "metadata": {
        "id": "view-in-github",
        "colab_type": "text"
      },
      "source": [
        "<a href=\"https://colab.research.google.com/github/EstebanS3/Laboratorios_Python/blob/Laboratorios/Ejercicio1.ipynb\" target=\"_parent\"><img src=\"https://colab.research.google.com/assets/colab-badge.svg\" alt=\"Open In Colab\"/></a>"
      ]
    },
    {
      "cell_type": "markdown",
      "source": [
        "Codigo que compara 2 valores:"
      ],
      "metadata": {
        "id": "T50n84kFvod6"
      }
    },
    {
      "cell_type": "code",
      "execution_count": null,
      "metadata": {
        "colab": {
          "base_uri": "https://localhost:8080/"
        },
        "id": "3-9Cpt8gu4MH",
        "outputId": "a53407a5-1130-410e-db47-7a6b87b226fc"
      },
      "outputs": [
        {
          "output_type": "stream",
          "name": "stdout",
          "text": [
            "El menor es  25\n"
          ]
        }
      ],
      "source": [
        "x=75\n",
        "y=25\n",
        "if x>y:\n",
        "  print(\"El menor es \",y)\n",
        "else:\n",
        "  print(\"El menor es \",x)"
      ]
    },
    {
      "cell_type": "markdown",
      "source": [
        "Un hola mundo:\n"
      ],
      "metadata": {
        "id": "Okt9bsSPwAnR"
      }
    },
    {
      "cell_type": "code",
      "source": [
        "print(\"Hola Mundo\")"
      ],
      "metadata": {
        "colab": {
          "base_uri": "https://localhost:8080/"
        },
        "id": "1n6rnWwiwABh",
        "outputId": "daee8339-4fbf-43e7-d515-d0d85f7d0f9f"
      },
      "execution_count": null,
      "outputs": [
        {
          "output_type": "stream",
          "name": "stdout",
          "text": [
            "Hola Mundo\n"
          ]
        }
      ]
    },
    {
      "cell_type": "markdown",
      "source": [
        "\n",
        "\n",
        "Ejemplo 1\n",
        "\n"
      ],
      "metadata": {
        "id": "dHzkA3p60BOD"
      }
    },
    {
      "cell_type": "code",
      "source": [
        "num=7\n",
        "if num % 2 == 0:\n",
        "  print(\"El numero es par\")\n",
        "else:\n",
        "  print(\"El numero es impar\")"
      ],
      "metadata": {
        "colab": {
          "base_uri": "https://localhost:8080/"
        },
        "id": "a0HGERDO0CzO",
        "outputId": "02f9d14b-b97a-43c4-90e2-d4c4b33cfb5e"
      },
      "execution_count": null,
      "outputs": [
        {
          "output_type": "stream",
          "name": "stdout",
          "text": [
            "El numero es impar\n"
          ]
        }
      ]
    },
    {
      "cell_type": "markdown",
      "source": [
        "Reto#1"
      ],
      "metadata": {
        "id": "TZbva_Q_y1V6"
      }
    },
    {
      "cell_type": "code",
      "source": [
        "import math as M\n",
        "a=4\n",
        "b=-6\n",
        "c=2\n",
        "x1=(-b+M.sqrt(b**2-4*a*c))/(2*a)\n",
        "print(x1)\n",
        "x2=(-b-M.sqrt(b**2-4*a*c))/(2*a)\n",
        "print(x2)"
      ],
      "metadata": {
        "colab": {
          "base_uri": "https://localhost:8080/"
        },
        "id": "vaN82-Oxy5yC",
        "outputId": "87563b18-9d0e-41dc-b4be-b6d29e9ffe2b"
      },
      "execution_count": null,
      "outputs": [
        {
          "output_type": "stream",
          "name": "stdout",
          "text": [
            "1.0\n",
            "0.5\n"
          ]
        }
      ]
    },
    {
      "cell_type": "markdown",
      "source": [
        "Reto Calculo Area del circulo"
      ],
      "metadata": {
        "id": "ch9Y0I0L03py"
      }
    },
    {
      "cell_type": "code",
      "source": [
        "import math as M\n",
        "Radio = input(\"Ingrese el valor del radio: \")\n",
        "Radio=int(Radio)\n",
        "Area= M.pi*Radio**2\n",
        "print(Area)"
      ],
      "metadata": {
        "colab": {
          "base_uri": "https://localhost:8080/"
        },
        "id": "YVHyfFEX07vH",
        "outputId": "10d1e00a-c915-4ffe-9743-a93b7e2cdb36"
      },
      "execution_count": null,
      "outputs": [
        {
          "output_type": "stream",
          "name": "stdout",
          "text": [
            "Ingrese el valor del radio: 5\n",
            "78.53981633974483\n"
          ]
        }
      ]
    }
  ]
}