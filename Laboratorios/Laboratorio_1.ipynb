{
  "nbformat": 4,
  "nbformat_minor": 0,
  "metadata": {
    "colab": {
      "provenance": [],
      "include_colab_link": true
    },
    "kernelspec": {
      "name": "python3",
      "display_name": "Python 3"
    },
    "language_info": {
      "name": "python"
    }
  },
  "cells": [
    {
      "cell_type": "markdown",
      "metadata": {
        "id": "view-in-github",
        "colab_type": "text"
      },
      "source": [
        "<a href=\"https://colab.research.google.com/github/EstebanS3/Laboratorios_Python/blob/Laboratorios/Laboratorio_1.ipynb\" target=\"_parent\"><img src=\"https://colab.research.google.com/assets/colab-badge.svg\" alt=\"Open In Colab\"/></a>"
      ]
    },
    {
      "cell_type": "code",
      "execution_count": null,
      "metadata": {
        "colab": {
          "base_uri": "https://localhost:8080/"
        },
        "id": "5nc8dGMatCV3",
        "outputId": "5e3c0015-d248-4328-e589-fb1fc6df7653"
      },
      "outputs": [
        {
          "output_type": "stream",
          "name": "stdout",
          "text": [
            "Promedio de los elementos del vector\n",
            "Ingrese cantidad de Temperaturas: \n",
            "10\n",
            "Ingrese la temperatura: 2\n",
            "Ingrese la temperatura: 2\n",
            "Ingrese la temperatura: 2\n",
            "Ingrese la temperatura: 4\n",
            "Ingrese la temperatura: 5\n",
            "Ingrese la temperatura: 6\n",
            "Ingrese la temperatura: 7\n",
            "Ingrese la temperatura: 8\n",
            "Ingrese la temperatura: 9\n",
            "Ingrese la temperatura: 10\n",
            "La media es:  5.5\n",
            "En promedio, las temperaturas estan alrededor de los:  5.5\n",
            "La temperatura mas frecuente es:  2.0\n",
            "El valor central conocido como mediana es:  [5.0, 6.0]\n",
            "La desviacion indica la variavilidad con respecto al valor promedio y este es:  2.8372521918222215\n",
            "Los valores individuales en el conjunto de temperaturas tienden a estar a una distancia de alrededor :  8.05  de la media.\n"
          ]
        }
      ],
      "source": [
        "import numpy as num\n",
        "\n",
        "print(\"Promedio de los elementos del vector\")\n",
        "Suma=0\n",
        "Media=0\n",
        "Temp=[]\n",
        "\n",
        "print(\"Ingrese cantidad de Temperaturas: \")\n",
        "N=int(input())\n",
        "\n",
        "for i in range(N):\n",
        "  temperatura=float(input(\"Ingrese la temperatura: \"))\n",
        "  Temp.append(temperatura)\n",
        "  Suma=Suma+Temp[i]\n",
        "\n",
        "Media=Suma/N\n",
        "print(\"En promedio, las temperaturas estan alrededor de los: \",Media)\n",
        "\n",
        "#Moda\n",
        "Moda=max(set(Temp),key=Temp.count)\n",
        "if(1==Temp.count(Moda)):\n",
        "  print(\"No existen temperaturas que se repitan mas que el resto\")\n",
        "else:\n",
        "  print(\"La temperatura mas frecuente es: \",Moda)\n",
        "\n",
        "#Mediana\n",
        "Temp.sort()\n",
        "\n",
        "Tamano=len(Temp)\n",
        "\n",
        "if(Tamano%2!=0):\n",
        "  Mediana=0\n",
        "  Mediana=Temp[int(Tamano/2)]\n",
        "else:\n",
        "  Mediana=[]\n",
        "  Mediana.append(Temp[int((Tamano-1)/2)])\n",
        "  Mediana.append(Temp[int((Tamano+1)/2)])\n",
        "\n",
        "print(\"El valor central conocido como mediana es: \",Mediana)\n",
        "\n",
        "#Desviacion Estandar\n",
        "\n",
        "Desviacion=num.std(Temp)\n",
        "print(\"La desviacion indica la variabilidad con respecto al valor promedio y este es: \", Desviacion)\n",
        "\n",
        "#Varianza\n",
        "\n",
        "Varianza=num.var(Temp)\n",
        "print(\"Los valores individuales en el conjunto de temperaturas tienden a estar a una distancia de alrededor : \", Varianza,\" de la media.\")"
      ]
    }
  ]
}
