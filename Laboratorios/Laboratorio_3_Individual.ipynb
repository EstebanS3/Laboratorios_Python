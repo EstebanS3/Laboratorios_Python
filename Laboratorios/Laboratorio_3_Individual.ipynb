{
  "nbformat": 4,
  "nbformat_minor": 0,
  "metadata": {
    "colab": {
      "provenance": [],
      "include_colab_link": true
    },
    "kernelspec": {
      "name": "python3",
      "display_name": "Python 3"
    },
    "language_info": {
      "name": "python"
    }
  },
  "cells": [
    {
      "cell_type": "markdown",
      "metadata": {
        "id": "view-in-github",
        "colab_type": "text"
      },
      "source": [
        "<a href=\"https://colab.research.google.com/github/EstebanS3/Laboratorios_Python/blob/Laboratorios/Laboratorio_3_Individual.ipynb\" target=\"_parent\"><img src=\"https://colab.research.google.com/assets/colab-badge.svg\" alt=\"Open In Colab\"/></a>"
      ]
    },
    {
      "cell_type": "code",
      "execution_count": null,
      "metadata": {
        "colab": {
          "base_uri": "https://localhost:8080/"
        },
        "id": "Kvte4e30kT31",
        "outputId": "71f938c9-4b1f-434d-892e-6a98f9ed9941"
      },
      "outputs": [
        {
          "output_type": "stream",
          "name": "stdout",
          "text": [
            "       ID      Country  Year  \\\n",
            "0       4  Afghanistan  2010   \n",
            "1       4  Afghanistan  2018   \n",
            "2       4  Afghanistan  2018   \n",
            "3       4  Afghanistan  2018   \n",
            "4       8      Albania  2005   \n",
            "...   ...          ...   ...   \n",
            "3558  716     Zimbabwe  2008   \n",
            "3559  716     Zimbabwe  2008   \n",
            "3560  716     Zimbabwe  2008   \n",
            "3561  716     Zimbabwe  2010   \n",
            "3562  716     Zimbabwe  2012   \n",
            "\n",
            "                                                 Series  Value Footnotes  \\\n",
            "0                Intentional homicide rates per 100,000    3.4       NaN   \n",
            "1                Intentional homicide rates per 100,000    6.7       NaN   \n",
            "2     Percentage of male and female intentional homi...   12.2       NaN   \n",
            "3     Percentage of male and female intentional homi...    0.8       NaN   \n",
            "4                Intentional homicide rates per 100,000    5.0       NaN   \n",
            "...                                                 ...    ...       ...   \n",
            "3558                Assault rate per 100,000 population  414.0       NaN   \n",
            "3559  Kidnapping at the national level, rate per 100...    1.8       NaN   \n",
            "3560  Theft at the national level, rate per 100,000 ...  738.8       NaN   \n",
            "3561             Intentional homicide rates per 100,000    5.6       NaN   \n",
            "3562             Intentional homicide rates per 100,000    7.5       NaN   \n",
            "\n",
            "                                                 Source  \n",
            "0     United Nations Office on Drugs and Crime (UNOD...  \n",
            "1     United Nations Office on Drugs and Crime (UNOD...  \n",
            "2     United Nations Office on Drugs and Crime (UNOD...  \n",
            "3     United Nations Office on Drugs and Crime (UNOD...  \n",
            "4     United Nations Office on Drugs and Crime (UNOD...  \n",
            "...                                                 ...  \n",
            "3558  United Nations Office on Drugs and Crime (UNOD...  \n",
            "3559  United Nations Office on Drugs and Crime (UNOD...  \n",
            "3560  United Nations Office on Drugs and Crime (UNOD...  \n",
            "3561  United Nations Office on Drugs and Crime (UNOD...  \n",
            "3562  United Nations Office on Drugs and Crime (UNOD...  \n",
            "\n",
            "[3563 rows x 7 columns]\n",
            "       ID                     Country  Year  \\\n",
            "1       4                 Afghanistan  2018   \n",
            "2       4                 Afghanistan  2018   \n",
            "3       4                 Afghanistan  2018   \n",
            "26      8                     Albania  2018   \n",
            "27      8                     Albania  2018   \n",
            "...   ...                         ...   ...   \n",
            "3534  862  Venezuela (Boliv. Rep. of)  2018   \n",
            "3535  862  Venezuela (Boliv. Rep. of)  2018   \n",
            "3536  862  Venezuela (Boliv. Rep. of)  2018   \n",
            "3537  862  Venezuela (Boliv. Rep. of)  2018   \n",
            "3538  862  Venezuela (Boliv. Rep. of)  2018   \n",
            "\n",
            "                                                 Series  Value Footnotes  \\\n",
            "1                Intentional homicide rates per 100,000    6.7       NaN   \n",
            "2     Percentage of male and female intentional homi...   12.2       NaN   \n",
            "3     Percentage of male and female intentional homi...    0.8       NaN   \n",
            "26               Intentional homicide rates per 100,000    2.3       NaN   \n",
            "27    Percentage of male and female intentional homi...    3.5       NaN   \n",
            "...                                                 ...    ...       ...   \n",
            "3534             Intentional homicide rates per 100,000   36.7       NaN   \n",
            "3535  Percentage of male and female intentional homi...   61.9       NaN   \n",
            "3536  Percentage of male and female intentional homi...   10.7       NaN   \n",
            "3537                Assault rate per 100,000 population    6.5       NaN   \n",
            "3538  Kidnapping at the national level, rate per 100...    0.7       NaN   \n",
            "\n",
            "                                                 Source  \n",
            "1     United Nations Office on Drugs and Crime (UNOD...  \n",
            "2     United Nations Office on Drugs and Crime (UNOD...  \n",
            "3     United Nations Office on Drugs and Crime (UNOD...  \n",
            "26    United Nations Office on Drugs and Crime (UNOD...  \n",
            "27    United Nations Office on Drugs and Crime (UNOD...  \n",
            "...                                                 ...  \n",
            "3534  United Nations Office on Drugs and Crime (UNOD...  \n",
            "3535  United Nations Office on Drugs and Crime (UNOD...  \n",
            "3536  United Nations Office on Drugs and Crime (UNOD...  \n",
            "3537  United Nations Office on Drugs and Crime (UNOD...  \n",
            "3538  United Nations Office on Drugs and Crime (UNOD...  \n",
            "\n",
            "[462 rows x 7 columns]\n"
          ]
        }
      ],
      "source": [
        "import pandas as pd\n",
        "import matplotlib.pyplot as plt\n",
        "\n",
        "df=pd.read_csv('/content/CSVInvestigation.csv')\n",
        "data=pd.DataFrame(df)\n",
        "print(data)\n",
        "\n",
        "#data=data.astype({\"Value\":float})\n",
        "dataFiltered2018=data.loc[(data['Year']==2018)]\n",
        "print(dataFiltered2018)"
      ]
    },
    {
      "cell_type": "code",
      "source": [],
      "metadata": {
        "id": "eR8IPraxBa_T"
      },
      "execution_count": null,
      "outputs": []
    },
    {
      "cell_type": "markdown",
      "source": [
        "5 paises con mayor indice de criminalidad"
      ],
      "metadata": {
        "id": "S7Krz0DmmkC8"
      }
    },
    {
      "cell_type": "code",
      "source": [
        "# 5 paises con mayor indice de criminalidad\n",
        "dataFiltered=data.loc[(data['Series']==\"Intentional homicide rates per 100,000\")]\n",
        "print(dataFiltered.sort_values(by=['Value'],ascending=False)[['Country','Value']].head(5))"
      ],
      "metadata": {
        "colab": {
          "base_uri": "https://localhost:8080/"
        },
        "id": "CvVVQQKomkN2",
        "outputId": "f2c62153-88c2-4cb9-d1f1-57466b103b44"
      },
      "execution_count": null,
      "outputs": [
        {
          "output_type": "stream",
          "name": "stdout",
          "text": [
            "                    Country  Value\n",
            "1099            El Salvador  105.2\n",
            "1448               Honduras   75.0\n",
            "2813  Saint Kitts and Nevis   68.8\n",
            "1091            El Salvador   64.5\n",
            "1085            El Salvador   64.1\n"
          ]
        }
      ]
    },
    {
      "cell_type": "markdown",
      "source": [
        "5 paises con menor indice de criminalidad"
      ],
      "metadata": {
        "id": "4Hfv3vy3pXL8"
      }
    },
    {
      "cell_type": "code",
      "source": [
        "# 5 paises con menor indice de criminalidad\n",
        "dataFiltered=data.loc[(data['Series']==\"Intentional homicide rates per 100,000\")]\n",
        "print(dataFiltered.sort_values(by=['Value'],ascending=True)[['Country','Value']].head(5))"
      ],
      "metadata": {
        "colab": {
          "base_uri": "https://localhost:8080/"
        },
        "id": "MEvTBtWgpXWY",
        "outputId": "d86f6390-8d0b-4484-87a6-8023f680ad0d"
      },
      "execution_count": null,
      "outputs": [
        {
          "output_type": "stream",
          "name": "stdout",
          "text": [
            "                        Country  Value\n",
            "2196                 Montserrat    0.0\n",
            "3350   Turks and Caicos Islands    0.0\n",
            "2831  Saint Pierre and Miquelon    0.0\n",
            "3355                     Tuvalu    0.0\n",
            "2865                 San Marino    0.0\n"
          ]
        }
      ]
    },
    {
      "cell_type": "markdown",
      "source": [
        "El crimen mas repetido para el año 2018"
      ],
      "metadata": {
        "id": "D_uW6Jajpy6V"
      }
    },
    {
      "cell_type": "code",
      "source": [
        "#El crimen mas repetido para el año 2018\n",
        "print(dataFiltered2018['Series'].value_counts())"
      ],
      "metadata": {
        "colab": {
          "base_uri": "https://localhost:8080/"
        },
        "id": "y1yaaf2EpzDs",
        "outputId": "45bdf338-9d70-4805-8f9e-7f33e43d8b15"
      },
      "execution_count": null,
      "outputs": [
        {
          "output_type": "stream",
          "name": "stdout",
          "text": [
            "Intentional homicide rates per 100,000                                91\n",
            "Assault rate per 100,000 population                                   82\n",
            "Theft at the national level, rate per 100,000 population              75\n",
            "Percentage of male and female intentional homicide victims, Male      74\n",
            "Percentage of male and female intentional homicide victims, Female    73\n",
            "Kidnapping at the national level, rate per 100,000                    67\n",
            "Name: Series, dtype: int64\n"
          ]
        }
      ]
    },
    {
      "cell_type": "markdown",
      "source": [
        "Crimen con el porcentaje mas alto en Costa Rica 2005"
      ],
      "metadata": {
        "id": "cCvrziSqqsZU"
      }
    },
    {
      "cell_type": "code",
      "source": [
        "#Crimen con el porcentaje mas alto en Costa Rica 2005\n",
        "dataFilteredCR=data.loc[(data['Country']==\"Costa Rica\")&(data['Year']==2005)]\n",
        "print(dataFilteredCR)"
      ],
      "metadata": {
        "colab": {
          "base_uri": "https://localhost:8080/"
        },
        "id": "nPTWY0KhqsgN",
        "outputId": "b5d38fec-f8d6-448f-b8e7-760bf7c3d972"
      },
      "execution_count": null,
      "outputs": [
        {
          "output_type": "stream",
          "name": "stdout",
          "text": [
            "      ID     Country  Year                                             Series  \\\n",
            "844  188  Costa Rica  2005             Intentional homicide rates per 100,000   \n",
            "845  188  Costa Rica  2005  Percentage of male and female intentional homi...   \n",
            "846  188  Costa Rica  2005  Percentage of male and female intentional homi...   \n",
            "847  188  Costa Rica  2005  Kidnapping at the national level, rate per 100...   \n",
            "848  188  Costa Rica  2005  Theft at the national level, rate per 100,000 ...   \n",
            "\n",
            "     Value Footnotes                                             Source  \n",
            "844    7.8       NaN  United Nations Office on Drugs and Crime (UNOD...  \n",
            "845   12.7       NaN  United Nations Office on Drugs and Crime (UNOD...  \n",
            "846    2.9       NaN  United Nations Office on Drugs and Crime (UNOD...  \n",
            "847    0.3       NaN  United Nations Office on Drugs and Crime (UNOD...  \n",
            "848  195.1       NaN  United Nations Office on Drugs and Crime (UNOD...  \n"
          ]
        }
      ]
    },
    {
      "cell_type": "markdown",
      "source": [
        "Continuacion de lo anterior con filtros"
      ],
      "metadata": {
        "id": "LGqzmqkWso7v"
      }
    },
    {
      "cell_type": "code",
      "source": [
        "print(dataFilteredCR.sort_values(by=['Value'],ascending=False)[['Country','Series','Value']])"
      ],
      "metadata": {
        "id": "nI8YFbikspF4"
      },
      "execution_count": null,
      "outputs": []
    },
    {
      "cell_type": "markdown",
      "source": [
        "Comparativa entre CR, Nicaragua y Panama por medio de la tasa"
      ],
      "metadata": {
        "id": "fHcocX58swKO"
      }
    },
    {
      "cell_type": "code",
      "source": [
        "#Comparativa entre CR, Nicaragua y Panama por medio de la tasa\n",
        "registro=df.loc[(df[\"Country\"]==\"Costa Rica\")|(df[\"Country\"]==\"Panama\")|(df[\"Country\"]==\"Nicaragua\")]\n",
        "print(registro)"
      ],
      "metadata": {
        "colab": {
          "base_uri": "https://localhost:8080/"
        },
        "id": "r9qfuvcMswRd",
        "outputId": "ee49ef8b-2bbb-43ee-abb2-2c470f29b6a8"
      },
      "execution_count": null,
      "outputs": [
        {
          "output_type": "stream",
          "name": "stdout",
          "text": [
            "       ID     Country  Year  \\\n",
            "844   188  Costa Rica  2005   \n",
            "845   188  Costa Rica  2005   \n",
            "846   188  Costa Rica  2005   \n",
            "847   188  Costa Rica  2005   \n",
            "848   188  Costa Rica  2005   \n",
            "...   ...         ...   ...   \n",
            "2488  591      Panama  2018   \n",
            "2489  591      Panama  2018   \n",
            "2490  591      Panama  2018   \n",
            "2491  591      Panama  2018   \n",
            "2492  591      Panama  2018   \n",
            "\n",
            "                                                 Series  Value Footnotes  \\\n",
            "844              Intentional homicide rates per 100,000    7.8       NaN   \n",
            "845   Percentage of male and female intentional homi...   12.7       NaN   \n",
            "846   Percentage of male and female intentional homi...    2.9       NaN   \n",
            "847   Kidnapping at the national level, rate per 100...    0.3       NaN   \n",
            "848   Theft at the national level, rate per 100,000 ...  195.1       NaN   \n",
            "...                                                 ...    ...       ...   \n",
            "2488  Percentage of male and female intentional homi...   17.0       NaN   \n",
            "2489  Percentage of male and female intentional homi...    1.8       NaN   \n",
            "2490                Assault rate per 100,000 population  102.1       NaN   \n",
            "2491  Kidnapping at the national level, rate per 100...    0.4       NaN   \n",
            "2492  Theft at the national level, rate per 100,000 ...  395.7       NaN   \n",
            "\n",
            "                                                 Source  \n",
            "844   United Nations Office on Drugs and Crime (UNOD...  \n",
            "845   United Nations Office on Drugs and Crime (UNOD...  \n",
            "846   United Nations Office on Drugs and Crime (UNOD...  \n",
            "847   United Nations Office on Drugs and Crime (UNOD...  \n",
            "848   United Nations Office on Drugs and Crime (UNOD...  \n",
            "...                                                 ...  \n",
            "2488  United Nations Office on Drugs and Crime (UNOD...  \n",
            "2489  United Nations Office on Drugs and Crime (UNOD...  \n",
            "2490  United Nations Office on Drugs and Crime (UNOD...  \n",
            "2491  United Nations Office on Drugs and Crime (UNOD...  \n",
            "2492  United Nations Office on Drugs and Crime (UNOD...  \n",
            "\n",
            "[73 rows x 7 columns]\n"
          ]
        }
      ]
    },
    {
      "cell_type": "markdown",
      "source": [
        "Año mas conflictivo"
      ],
      "metadata": {
        "id": "qdXjj0RYt8ED"
      }
    },
    {
      "cell_type": "code",
      "source": [
        "registro=df[\"Year\"]\n",
        "annio=registro.mode()\n",
        "print(annio)"
      ],
      "metadata": {
        "colab": {
          "base_uri": "https://localhost:8080/"
        },
        "id": "sq3aCGgit8Wm",
        "outputId": "478b8a12-3ce2-410a-f0bd-13e2f6d309be"
      },
      "execution_count": null,
      "outputs": [
        {
          "output_type": "stream",
          "name": "stdout",
          "text": [
            "0    2010\n",
            "Name: Year, dtype: int64\n"
          ]
        }
      ]
    },
    {
      "cell_type": "markdown",
      "source": [
        "¿Cual es el genero mas impactado en la cantidad de crimenes?"
      ],
      "metadata": {
        "id": "-OuIVmzwuufx"
      }
    },
    {
      "cell_type": "code",
      "source": [
        "#¿Cual es el genero mas impactado en la cantidad de crimenes?\n",
        "print(\"¿Cual es el genero mas impactado en la cantidad de crimenes?\")\n",
        "dataFilteredbyGender=dataFiltered2018.loc[((\n",
        "    dataFiltered2018['Series']==\"Percentage of male and female intentional homicide victims, Male\")\n",
        "    |(dataFiltered2018['Series']==\"Percentage of male and female intentional homicide victims, Female\"))\n",
        "    ].groupby('Series')['Value']\n",
        "print(dataFilteredbyGender.mean())\n",
        "print(\"En este caso el genero que mas se vio afectado fueron los hombres\")\n"
      ],
      "metadata": {
        "colab": {
          "base_uri": "https://localhost:8080/"
        },
        "id": "ujDqiGOLu2AT",
        "outputId": "c24029a1-255b-40bf-9706-7959ad48f1bf"
      },
      "execution_count": null,
      "outputs": [
        {
          "output_type": "stream",
          "name": "stdout",
          "text": [
            "¿Cual es el genero mas impactado en la cantidad de crimenes?\n",
            "Series\n",
            "Percentage of male and female intentional homicide victims, Female    1.697260\n",
            "Percentage of male and female intentional homicide victims, Male      8.908108\n",
            "Name: Value, dtype: float64\n",
            "En este caso el genero que mas se vio afectado fueron los hombres\n"
          ]
        }
      ]
    }
  ]
}
