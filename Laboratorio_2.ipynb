{
  "nbformat": 4,
  "nbformat_minor": 0,
  "metadata": {
    "colab": {
      "provenance": []
    },
    "kernelspec": {
      "name": "python3",
      "display_name": "Python 3"
    },
    "language_info": {
      "name": "python"
    }
  },
  "cells": [
    {
      "cell_type": "code",
      "execution_count": null,
      "metadata": {
        "colab": {
          "base_uri": "https://localhost:8080/"
        },
        "id": "Jb-ulB1jiHOQ",
        "outputId": "84744e77-0b90-4936-d03d-fc720b43777c"
      },
      "outputs": [
        {
          "output_type": "stream",
          "name": "stdout",
          "text": [
            "           TOWN      LON      LAT  MEDV     CRIM    ZN  INDUS  CHAS    NOX  \\\n",
            "0        Nahant -70.9550  42.2550  24.0  0.00632  18.0   2.31     0  0.538   \n",
            "1    Swampscott -70.9500  42.2875  21.6  0.02731   0.0   7.07     0  0.469   \n",
            "2    Swampscott -70.9360  42.2830  34.7  0.02729   0.0   7.07     0  0.469   \n",
            "3    Marblehead -70.9280  42.2930  33.4  0.03237   0.0   2.18     0  0.458   \n",
            "4    Marblehead -70.9220  42.2980  36.2  0.06905   0.0   2.18     0  0.458   \n",
            "..          ...      ...      ...   ...      ...   ...    ...   ...    ...   \n",
            "501    Winthrop -70.9860  42.2312  22.4  0.06263   0.0  11.93     0  0.573   \n",
            "502    Winthrop -70.9910  42.2275  20.6  0.04527   0.0  11.93     0  0.573   \n",
            "503    Winthrop -70.9948  42.2260  23.9  0.06076   0.0  11.93     0  0.573   \n",
            "504    Winthrop -70.9875  42.2240  22.0  0.10959   0.0  11.93     0  0.573   \n",
            "505    Winthrop -70.9825  42.2210  19.0  0.04741   0.0  11.93     0  0.573   \n",
            "\n",
            "        RM   AGE     DIS  RAD  TAX  PTRATIO       B  LSTAT  \n",
            "0    6.575  65.2  4.0900    1  296     15.3  396.90   4.98  \n",
            "1    6.421  78.9  4.9671    2  242     17.8  396.90   9.14  \n",
            "2    7.185  61.1  4.9671    2  242     17.8  392.83   4.03  \n",
            "3    6.998  45.8  6.0622    3  222     18.7  394.63   2.94  \n",
            "4    7.147  54.2  6.0622    3  222     18.7  396.90   5.33  \n",
            "..     ...   ...     ...  ...  ...      ...     ...    ...  \n",
            "501  6.593  69.1  2.4786    1  273     21.0  391.99   9.67  \n",
            "502  6.120  76.7  2.2875    1  273     21.0  396.90   9.08  \n",
            "503  6.976  91.0  2.1675    1  273     21.0  396.90   5.64  \n",
            "504  6.794  89.3  2.3889    1  273     21.0  393.45   6.48  \n",
            "505  6.030  80.8  2.5050    1  273     21.0  396.90   7.88  \n",
            "\n",
            "[506 rows x 17 columns]\n",
            "0      65.2\n",
            "1      78.9\n",
            "2      61.1\n",
            "3      45.8\n",
            "4      54.2\n",
            "       ... \n",
            "501    69.1\n",
            "502    76.7\n",
            "503    91.0\n",
            "504    89.3\n",
            "505    80.8\n",
            "Name: AGE, Length: 506, dtype: float64\n"
          ]
        }
      ],
      "source": [
        "#Apertura de archivo\n",
        "import pandas as pd\n",
        "df=pd.read_csv('/content/casasboston.csv')\n",
        "data=pd.DataFrame(df)\n",
        "print(data)\n",
        "print(data.AGE)"
      ]
    },
    {
      "cell_type": "markdown",
      "source": [
        "Solo edad 65.2"
      ],
      "metadata": {
        "id": "4Jq1HkpC5Dqo"
      }
    },
    {
      "cell_type": "code",
      "source": [
        "dataresultado=data.loc[(data['AGE']==65.2)]\n",
        "print(dataresultado)"
      ],
      "metadata": {
        "id": "Ta95Wg4e5EB_",
        "colab": {
          "base_uri": "https://localhost:8080/"
        },
        "outputId": "04072ae7-3cab-4ad9-dc1d-8540a52170d0"
      },
      "execution_count": null,
      "outputs": [
        {
          "output_type": "stream",
          "name": "stdout",
          "text": [
            "       TOWN     LON      LAT  MEDV     CRIM    ZN  INDUS  CHAS    NOX     RM  \\\n",
            "0    Nahant -70.955  42.2550  24.0  0.00632  18.0   2.31     0  0.538  6.575   \n",
            "119  Malden -71.019  42.2605  19.3  0.14476   0.0  10.01     0  0.547  5.731   \n",
            "\n",
            "      AGE     DIS  RAD  TAX  PTRATIO      B  LSTAT  \n",
            "0    65.2  4.0900    1  296     15.3  396.9   4.98  \n",
            "119  65.2  2.7592    6  432     17.8  391.5  13.61  \n"
          ]
        }
      ]
    },
    {
      "cell_type": "markdown",
      "source": [
        "Solo town Wintrop"
      ],
      "metadata": {
        "id": "vPeZUc025EKH"
      }
    },
    {
      "cell_type": "code",
      "source": [
        "dataresultado=data.loc[(data['TOWN']==\"Winthrop\")]\n",
        "print(dataresultado)"
      ],
      "metadata": {
        "id": "p5YGEk-85Ecf",
        "colab": {
          "base_uri": "https://localhost:8080/"
        },
        "outputId": "aee6acf7-52c0-40ff-c70f-d76edc48d321"
      },
      "execution_count": null,
      "outputs": [
        {
          "output_type": "stream",
          "name": "stdout",
          "text": [
            "         TOWN      LON      LAT  MEDV     CRIM   ZN  INDUS  CHAS    NOX  \\\n",
            "501  Winthrop -70.9860  42.2312  22.4  0.06263  0.0  11.93     0  0.573   \n",
            "502  Winthrop -70.9910  42.2275  20.6  0.04527  0.0  11.93     0  0.573   \n",
            "503  Winthrop -70.9948  42.2260  23.9  0.06076  0.0  11.93     0  0.573   \n",
            "504  Winthrop -70.9875  42.2240  22.0  0.10959  0.0  11.93     0  0.573   \n",
            "505  Winthrop -70.9825  42.2210  19.0  0.04741  0.0  11.93     0  0.573   \n",
            "\n",
            "        RM   AGE     DIS  RAD  TAX  PTRATIO       B  LSTAT  \n",
            "501  6.593  69.1  2.4786    1  273     21.0  391.99   9.67  \n",
            "502  6.120  76.7  2.2875    1  273     21.0  396.90   9.08  \n",
            "503  6.976  91.0  2.1675    1  273     21.0  396.90   5.64  \n",
            "504  6.794  89.3  2.3889    1  273     21.0  393.45   6.48  \n",
            "505  6.030  80.8  2.5050    1  273     21.0  396.90   7.88  \n"
          ]
        }
      ]
    },
    {
      "cell_type": "markdown",
      "source": [
        "Seleccionar un town/distinto"
      ],
      "metadata": {
        "id": "9fPrDfWs5WkP"
      }
    },
    {
      "cell_type": "code",
      "source": [
        "dataresultado=data.loc[(data['TOWN']==\"Marblehead\")]\n",
        "print(dataresultado)"
      ],
      "metadata": {
        "id": "ol_eLKMG5Wr_",
        "colab": {
          "base_uri": "https://localhost:8080/"
        },
        "outputId": "43d84572-1bfc-4a8e-9edf-aeec2f488fcf"
      },
      "execution_count": null,
      "outputs": [
        {
          "output_type": "stream",
          "name": "stdout",
          "text": [
            "         TOWN      LON     LAT  MEDV     CRIM   ZN  INDUS  CHAS    NOX     RM  \\\n",
            "3  Marblehead -70.9280  42.293  33.4  0.03237  0.0   2.18     0  0.458  6.998   \n",
            "4  Marblehead -70.9220  42.298  36.2  0.06905  0.0   2.18     0  0.458  7.147   \n",
            "5  Marblehead -70.9165  42.304  28.7  0.02985  0.0   2.18     0  0.458  6.430   \n",
            "\n",
            "    AGE     DIS  RAD  TAX  PTRATIO       B  LSTAT  \n",
            "3  45.8  6.0622    3  222     18.7  394.63   2.94  \n",
            "4  54.2  6.0622    3  222     18.7  396.90   5.33  \n",
            "5  58.7  6.0622    3  222     18.7  394.12   5.21  \n"
          ]
        }
      ]
    },
    {
      "cell_type": "markdown",
      "source": [
        "Town:Crim superior a 0.50"
      ],
      "metadata": {
        "id": "b4_74BhG5akn"
      }
    },
    {
      "cell_type": "code",
      "source": [
        "dataresultado=data.loc[(data['TOWN']==\"Marblehead\") & (data['CRIM']>=0.50)]\n",
        "print(dataresultado)"
      ],
      "metadata": {
        "colab": {
          "base_uri": "https://localhost:8080/"
        },
        "id": "ebeDVizx5fLA",
        "outputId": "3f3ec64d-e5d8-47c8-e09a-3271f864991a"
      },
      "execution_count": null,
      "outputs": [
        {
          "output_type": "stream",
          "name": "stdout",
          "text": [
            "Empty DataFrame\n",
            "Columns: [TOWN, LON, LAT, MEDV, CRIM, ZN, INDUS, CHAS, NOX, RM, AGE, DIS, RAD, TAX, PTRATIO, B, LSTAT]\n",
            "Index: []\n"
          ]
        }
      ]
    },
    {
      "cell_type": "markdown",
      "source": [
        "Promedio de la edad"
      ],
      "metadata": {
        "id": "muZ40vae5f03"
      }
    },
    {
      "cell_type": "code",
      "source": [
        "import numpy as num\n",
        "edadprom=num.mean(data.AGE)\n",
        "print(edadprom)"
      ],
      "metadata": {
        "colab": {
          "base_uri": "https://localhost:8080/"
        },
        "id": "P8-HUKh25jlV",
        "outputId": "c29bd3c1-de76-4a11-a3a3-a25df0ad7db2"
      },
      "execution_count": null,
      "outputs": [
        {
          "output_type": "stream",
          "name": "stdout",
          "text": [
            "68.57490118577076\n"
          ]
        }
      ]
    },
    {
      "cell_type": "markdown",
      "source": [
        "Imprimir un indice y una edad"
      ],
      "metadata": {
        "id": "YOJXx6Nh5kJc"
      }
    },
    {
      "cell_type": "code",
      "source": [
        "import pandas as pd\n",
        "data2=pd.DataFrame(df)\n",
        "print(data2[[\"AGE\",\"TAX\"]])"
      ],
      "metadata": {
        "colab": {
          "base_uri": "https://localhost:8080/"
        },
        "id": "TLx0Zr-e5nPs",
        "outputId": "3685de63-deab-4570-8c00-e6e0fe38e6f4"
      },
      "execution_count": null,
      "outputs": [
        {
          "output_type": "stream",
          "name": "stdout",
          "text": [
            "      AGE  TAX\n",
            "0    65.2  296\n",
            "1    78.9  242\n",
            "2    61.1  242\n",
            "3    45.8  222\n",
            "4    54.2  222\n",
            "..    ...  ...\n",
            "501  69.1  273\n",
            "502  76.7  273\n",
            "503  91.0  273\n",
            "504  89.3  273\n",
            "505  80.8  273\n",
            "\n",
            "[506 rows x 2 columns]\n"
          ]
        }
      ]
    },
    {
      "cell_type": "markdown",
      "source": [
        "Ordenamiento por CRIM //sort"
      ],
      "metadata": {
        "id": "fv28Bdan5nXc"
      }
    },
    {
      "cell_type": "code",
      "source": [
        "sorted_df = df.sort_values(by=['CRIM'], ascending=True)\n",
        "print(sorted_df)"
      ],
      "metadata": {
        "id": "sHNDkhfg5rZV",
        "colab": {
          "base_uri": "https://localhost:8080/"
        },
        "outputId": "a1b47172-cb5c-4421-a32c-0f48fc309713"
      },
      "execution_count": null,
      "outputs": [
        {
          "output_type": "stream",
          "name": "stdout",
          "text": [
            "                    TOWN      LON      LAT  MEDV      CRIM    ZN  INDUS  CHAS  \\\n",
            "0                 Nahant -70.9550  42.2550  24.0   0.00632  18.0   2.31     0   \n",
            "284             Medfield -71.1800  42.1105  32.2   0.00906  90.0   2.97     0   \n",
            "285               Millis -71.2135  42.1000  22.0   0.01096  55.0   2.25     0   \n",
            "341             Cohasset -70.8875  42.1465  32.7   0.01301  35.0   1.52     0   \n",
            "55             Topsfield -70.9625  42.3810  35.4   0.01311  90.0   1.22     0   \n",
            "..                   ...      ...      ...   ...       ...   ...    ...   ...   \n",
            "414       Boston Roxbury -71.0420  42.1985   7.0  45.74610   0.0  18.10     0   \n",
            "410      Boston Downtown -71.0462  42.2075  15.0  51.13580   0.0  18.10     0   \n",
            "405  Boston South Boston -71.0320  42.2057   5.0  67.92080   0.0  18.10     0   \n",
            "418       Boston Roxbury -71.0525  42.1989   8.8  73.53410   0.0  18.10     0   \n",
            "380   Boston Charlestown -71.0460  42.2300  10.4  88.97620   0.0  18.10     0   \n",
            "\n",
            "       NOX     RM    AGE     DIS  RAD  TAX  PTRATIO       B  LSTAT  \n",
            "0    0.538  6.575   65.2  4.0900    1  296     15.3  396.90   4.98  \n",
            "284  0.400  7.088   20.8  7.3073    1  285     15.3  394.72   7.85  \n",
            "285  0.389  6.453   31.9  7.3073    1  300     15.3  394.72   8.23  \n",
            "341  0.442  7.241   49.3  7.0379    1  284     15.5  394.74   5.49  \n",
            "55   0.403  7.249   21.9  8.6966    5  226     17.9  395.93   4.81  \n",
            "..     ...    ...    ...     ...  ...  ...      ...     ...    ...  \n",
            "414  0.693  4.519  100.0  1.6582   24  666     20.2   88.27  36.98  \n",
            "410  0.597  5.757  100.0  1.4130   24  666     20.2    2.60  10.11  \n",
            "405  0.693  5.683  100.0  1.4254   24  666     20.2  384.97  22.98  \n",
            "418  0.679  5.957  100.0  1.8026   24  666     20.2   16.45  20.62  \n",
            "380  0.671  6.968   91.9  1.4165   24  666     20.2  396.90  17.21  \n",
            "\n",
            "[506 rows x 17 columns]\n"
          ]
        }
      ]
    }
  ]
}